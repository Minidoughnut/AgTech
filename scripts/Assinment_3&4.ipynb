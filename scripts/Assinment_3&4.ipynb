{
 "cells": [
  {
   "attachments": {},
   "cell_type": "markdown",
   "metadata": {},
   "source": [
    "# Assignment 3"
   ]
  },
  {
   "attachments": {},
   "cell_type": "markdown",
   "metadata": {},
   "source": [
    "**Please follow the instructions. Do not add new cell! Write your code in designated areas.**"
   ]
  },
  {
   "cell_type": "code",
   "execution_count": 1,
   "metadata": {},
   "outputs": [
    {
     "name": "stdout",
     "output_type": "stream",
     "text": [
      "Assignment 3 & 4: Solutions by Olakunle Oyeniyi\n",
      "Local Time: 2023-10-01 17:27:55\n",
      "Computer ID: WIN-VAK2ONJP2K2\n"
     ]
    }
   ],
   "source": [
    "import datetime\n",
    "import socket\n",
    "\n",
    "# Get local time\n",
    "local_time = datetime.datetime.now().strftime(\"%Y-%m-%d %H:%M:%S\")\n",
    "\n",
    "# Get computer ID or hostname\n",
    "computer_id = socket.gethostname()\n",
    "\n",
    "# Print output with local time and computer ID\n",
    "print('Assignment 3 & 4: Solutions by Olakunle Oyeniyi') \n",
    "print('Local Time:', local_time)\n",
    "print('Computer ID:', computer_id)"
   ]
  },
  {
   "attachments": {},
   "cell_type": "markdown",
   "metadata": {},
   "source": [
    "## NumPy"
   ]
  },
  {
   "attachments": {},
   "cell_type": "markdown",
   "metadata": {},
   "source": [
    "1. Create a 2D numpy array of size 4x5 with random integers between 1 and 10. Find the maximum value of the entire array. \n"
   ]
  },
  {
   "cell_type": "code",
   "execution_count": 2,
   "metadata": {},
   "outputs": [
    {
     "name": "stdout",
     "output_type": "stream",
     "text": [
      "Random Integers: [9, 8, 3, 8, 1, 10, 4, 7, 5, 4, 9, 2, 4, 10, 2, 4, 8, 8, 8, 10]\n",
      "\n",
      "2-D Array:\n",
      " [[ 9  8  3  8  1]\n",
      " [10  4  7  5  4]\n",
      " [ 9  2  4 10  2]\n",
      " [ 4  8  8  8 10]]\n",
      "\n",
      "Maximum value: 10 \n"
     ]
    }
   ],
   "source": [
    "import numpy as np\n",
    "\n",
    "random_integers = [] \n",
    "\n",
    "for i in range(1, 21):\n",
    "    random_int = np.random.randint(1, 11)  \n",
    "    random_integers.append(random_int)\n",
    "print(f\"Random Integers: {random_integers}\\n\")\n",
    "\n",
    "array_2d = np.array(random_integers).reshape(4, 5)\n",
    "print(f\"2-D Array:\\n {array_2d}\\n\")\n",
    "\n",
    "max_value = np.max(array_2d)\n",
    "print(f\"Maximum value: {max_value} \")"
   ]
  },
  {
   "attachments": {},
   "cell_type": "markdown",
   "metadata": {},
   "source": [
    "2. Create a 1D numpy array of size 20 with random floats between 0 and 1. Reshape the array into a 4x5 matrix. Compute the mean of each row."
   ]
  },
  {
   "cell_type": "code",
   "execution_count": 3,
   "metadata": {},
   "outputs": [
    {
     "name": "stdout",
     "output_type": "stream",
     "text": [
      "Random Integers: [0.18, 0.78, 0.63, 0.9, 0.7, 0.29, 0.03, 0.19, 0.18, 0.04, 0.89, 0.67, 0.94, 0.53, 0.28, 0.79, 0.49, 0.08, 0.82, 0.28]\n",
      "\n",
      "1-D Array:\n",
      " [0.18 0.78 0.63 0.9  0.7  0.29 0.03 0.19 0.18 0.04 0.89 0.67 0.94 0.53\n",
      " 0.28 0.79 0.49 0.08 0.82 0.28]\n",
      "\n",
      "1-D Array is reshaped to:\n",
      " [[0.18 0.78 0.63 0.9  0.7 ]\n",
      " [0.29 0.03 0.19 0.18 0.04]\n",
      " [0.89 0.67 0.94 0.53 0.28]\n",
      " [0.79 0.49 0.08 0.82 0.28]]\n",
      "\n",
      "Mean Value: [0.638 0.146 0.662 0.492]\n"
     ]
    }
   ],
   "source": [
    "import numpy as np\n",
    "\n",
    "random_integers = [] \n",
    "\n",
    "for i in range(1, 21):\n",
    "    random_int = round(np.random.uniform(0, 1), 2)  \n",
    "    random_integers.append(random_int)\n",
    "print(f\"Random Integers: {random_integers}\\n\")\n",
    "\n",
    "array_1d = np.array(random_integers)\n",
    "print(f\"1-D Array:\\n {array_1d}\\n\")\n",
    "\n",
    "array_1d_reshape = array_1d.reshape(4, 5)\n",
    "print(f\"1-D Array is reshaped to:\\n {array_1d_reshape}\\n\")\n",
    "\n",
    "mean = np.mean(array_1d_reshape, axis=1)\n",
    "print(f\"Mean Value: {mean}\")"
   ]
  },
  {
   "attachments": {},
   "cell_type": "markdown",
   "metadata": {},
   "source": [
    "3. Create a 2D numpy array of size 5x5 with random integers between 1 and 100. Compute standard deviation of each column."
   ]
  },
  {
   "cell_type": "code",
   "execution_count": 4,
   "metadata": {},
   "outputs": [
    {
     "name": "stdout",
     "output_type": "stream",
     "text": [
      "2D Array: \n",
      "[[54 66 33 27 32]\n",
      " [55 15 45 20 34]\n",
      " [84 97 22  7 65]\n",
      " [39 18 88 43 15]\n",
      " [70 32 88 98 93]]\n",
      "\n",
      "Standard Deviation of Each Column: \n",
      "[15.3441 31.4363 27.7518 31.7049 27.7662]\n"
     ]
    }
   ],
   "source": [
    "#Use the 'np.random.randint' function from 'numpy' module to generate the random integers.\n",
    "import numpy as np\n",
    "\n",
    "array_2d = np.random.randint(1, 101, size=(5, 5))\n",
    "\n",
    "std_dev = np.std(array_2d, axis=0).round(4)\n",
    "\n",
    "\n",
    "print(f\"2D Array: \\n{array_2d}\\n\")\n",
    "print(f\"Standard Deviation of Each Column: \\n{std_dev}\")"
   ]
  },
  {
   "attachments": {},
   "cell_type": "markdown",
   "metadata": {},
   "source": [
    "4. Create a 1D numpy array of size 15 with random floats between -10 and 10. Replace all negative values with their absolute values."
   ]
  },
  {
   "cell_type": "code",
   "execution_count": 5,
   "metadata": {},
   "outputs": [
    {
     "name": "stdout",
     "output_type": "stream",
     "text": [
      "1D numpy array of size 15: \n",
      " [-7.81 -0.64  1.    7.29 -0.15 -5.42 -8.96  1.71 -6.27 -6.    2.12 -3.74\n",
      "  3.   -2.65  1.12]\n",
      "\n",
      "Absolute Values: \n",
      " [7.81 0.64 1.   7.29 0.15 5.42 8.96 1.71 6.27 6.   2.12 3.74 3.   2.65\n",
      " 1.12]\n"
     ]
    }
   ],
   "source": [
    "import numpy as np\n",
    "\n",
    "arr_1d = np.random.uniform(-10, 10, size=15).round(2)\n",
    "\n",
    "print(f\"1D numpy array of size 15: \\n {arr_1d}\\n\")\n",
    "\n",
    "abs_value = np.abs(arr_1d)\n",
    "print(f\"Absolute Values: \\n {abs_value}\")\n",
    "\n",
    "\n",
    "\n",
    "\n",
    "\n"
   ]
  },
  {
   "attachments": {},
   "cell_type": "markdown",
   "metadata": {},
   "source": [
    "5. Create a 2D numpy array of size 3x4 with random integers between 1 and 100. Calculate the sum of all elements in the array."
   ]
  },
  {
   "cell_type": "code",
   "execution_count": 6,
   "metadata": {},
   "outputs": [
    {
     "name": "stdout",
     "output_type": "stream",
     "text": [
      "2D numpy array of size 3x4: \n",
      "[[22 95 46 85]\n",
      " [51 58 31 80]\n",
      " [ 8 84 64 33]]\n",
      "\n",
      "The sum of all elements in the array is: 657\n"
     ]
    }
   ],
   "source": [
    "import numpy as np\n",
    "\n",
    "array_2d_numpy = np.random.randint(1, 100, size=(3, 4))\n",
    "\n",
    "print(f\"2D numpy array of size 3x4: \\n{array_2d_numpy}\\n\")\n",
    "\n",
    "sum_arr_2d = np.sum(array_2d_numpy)\n",
    "print(f\"The sum of all elements in the array is: {sum_arr_2d}\")"
   ]
  },
  {
   "attachments": {},
   "cell_type": "markdown",
   "metadata": {},
   "source": [
    "7. Create a 2D numpy array of size 4x6 with random floats between 0 and 1. Normalize each column by subtracting the column mean and dividing by the column standard deviation."
   ]
  },
  {
   "cell_type": "code",
   "execution_count": 7,
   "metadata": {},
   "outputs": [
    {
     "name": "stdout",
     "output_type": "stream",
     "text": [
      "2D numpy array of 4x6:\n",
      " [[0.816 0.352 0.066 0.422 0.494 0.829]\n",
      " [0.956 0.04  0.477 0.277 0.284 0.331]\n",
      " [0.692 0.525 0.969 0.572 0.998 0.494]\n",
      " [0.433 0.483 0.658 0.559 0.376 0.091]]\n",
      "\n",
      "Normalized column: \n",
      "[[ 0.  0. -2. -1. -1.  1.]\n",
      " [ 1. -2. -1. -2. -1. -1.]\n",
      " [-1.  0.  1.  0.  1.  0.]\n",
      " [-2.  0.  0.  0. -1. -2.]]\n"
     ]
    }
   ],
   "source": [
    "import numpy as np\n",
    "arr_2d = (np.random.rand(4, 6)).round(3)\n",
    "print(f\"2D numpy array of 4x6:\\n {arr_2d}\\n\")\n",
    "\n",
    "column_mean = np.mean(arr_2d, axis=0)\n",
    "\n",
    "std_dev = np.std(arr_2d, axis=0).round(3)\n",
    "\n",
    "norm = (arr_2d - column_mean) // std_dev\n",
    "print(f\"Normalized column: \\n{norm}\")"
   ]
  },
  {
   "attachments": {},
   "cell_type": "markdown",
   "metadata": {},
   "source": [
    "8. Create a 2D numpy array of size 10x10 with random integers between 1 and 100. Replace all values greater than 50 with 1 and all other values with 0."
   ]
  },
  {
   "cell_type": "code",
   "execution_count": 8,
   "metadata": {},
   "outputs": [
    {
     "name": "stdout",
     "output_type": "stream",
     "text": [
      "2D numpy 10x10 array:\n",
      " [[80 97 85 48 32 15 85 20 57  9]\n",
      " [63 21  5  2 16 72 72 40 15 16]\n",
      " [12  7 19 65 89  5 71 12 43 68]\n",
      " [69 52 62 90 83 13 61  2 59 69]\n",
      " [85 73 85 14 13 98 14 42 53 80]\n",
      " [71 28 58 73 96 85 13 98 71 18]\n",
      " [19 35 83 76 31 10 57 58  5 71]\n",
      " [47 11 72 54 38 85 67 79 74 77]\n",
      " [26 99 11 68 15 65 77 95 71 44]\n",
      " [41  2 50 99  6  6 97 83 47 80]]\n",
      "\n",
      "Array with replaced vaules: \n",
      "[[1 1 1 0 0 0 1 0 1 0]\n",
      " [1 0 0 0 0 1 1 0 0 0]\n",
      " [0 0 0 1 1 0 1 0 0 1]\n",
      " [1 1 1 1 1 0 1 0 1 1]\n",
      " [1 1 1 0 0 1 0 0 1 1]\n",
      " [1 0 1 1 1 1 0 1 1 0]\n",
      " [0 0 1 1 0 0 1 1 0 1]\n",
      " [0 0 1 1 0 1 1 1 1 1]\n",
      " [0 1 0 1 0 1 1 1 1 0]\n",
      " [0 0 0 1 0 0 1 1 0 1]]\n"
     ]
    }
   ],
   "source": [
    "import numpy as np\n",
    "\n",
    "array_2d = np.random.randint(1, 100, size=(10, 10))\n",
    "print(f\"2D numpy 10x10 array:\\n {array_2d}\\n\")\n",
    "\n",
    "replace_value = np.zeros((10, 10), dtype=int)\n",
    "\n",
    "for x in range(10):\n",
    "    for y in range(10):\n",
    "        if array_2d[x, y] > 50:\n",
    "            replace_value[x, y] = 1\n",
    "\n",
    "print(f\"Array with replaced vaules: \\n{replace_value}\")\n"
   ]
  },
  {
   "attachments": {},
   "cell_type": "markdown",
   "metadata": {},
   "source": [
    "9. Create a 1D numpy array of size 50 with random floats between 0 and 1. Find the number of elements greater than 0.5."
   ]
  },
  {
   "cell_type": "code",
   "execution_count": 9,
   "metadata": {},
   "outputs": [
    {
     "name": "stdout",
     "output_type": "stream",
     "text": [
      " 1D numpy array: \n",
      "[0.3862 0.8261 0.0205 0.787  0.958  0.23   0.667  0.2541 0.6207 0.9549\n",
      " 0.022  0.019  0.0624 0.3419 0.8085 0.2845 0.0781 0.6368 0.021  0.0512\n",
      " 0.1019 0.6475 0.8084 0.9144 0.0879 0.385  0.5218 0.3869 0.3985 0.5462\n",
      " 0.8843 0.6016 0.4401 0.1059 0.4184 0.3985 0.8824 0.8841 0.3083 0.2289\n",
      " 0.0256 0.2471 0.6131 0.0045 0.7449 0.5801 0.9668 0.5405 0.9536 0.2268]\n",
      "\n",
      "Elements greater than 0.5: \n",
      "[0.8261 0.787  0.958  0.667  0.6207 0.9549 0.8085 0.6368 0.6475 0.8084\n",
      " 0.9144 0.5218 0.5462 0.8843 0.6016 0.8824 0.8841 0.6131 0.7449 0.5801\n",
      " 0.9668 0.5405 0.9536]\n",
      "\n",
      "Number of elements greater than 0.5: \n",
      "23\n"
     ]
    }
   ],
   "source": [
    "import numpy as np\n",
    "\n",
    "array_1d = np.random.rand(50).round(4)\n",
    "print(f\" 1D numpy array: \\n{array_1d}\\n\")\n",
    "\n",
    "elements_over_target = array_1d[array_1d > 0.5]\n",
    "\n",
    "print(f\"Elements greater than 0.5: \\n{elements_over_target}\\n\")\n",
    "\n",
    "number = len(elements_over_target)\n",
    "\n",
    "print(f\"Number of elements greater than 0.5: \\n{number}\")"
   ]
  },
  {
   "attachments": {},
   "cell_type": "markdown",
   "metadata": {},
   "source": [
    "10. Create a 2D numpy array of size 5x5 with random floats between -1 and 1. Find the absolute difference between the maximum and minimum values in each row."
   ]
  },
  {
   "cell_type": "code",
   "execution_count": 10,
   "metadata": {},
   "outputs": [
    {
     "name": "stdout",
     "output_type": "stream",
     "text": [
      "2D numpy array btw -1 and 1:\n",
      "[[-0.9322  0.2934  0.4227  0.9132 -0.6162]\n",
      " [ 0.3461 -0.7298  0.13   -0.7669  0.1975]\n",
      " [ 0.4285 -0.9901  0.0604  0.3907  0.7052]\n",
      " [-0.6311 -0.1183 -0.9692 -0.8644 -0.7166]\n",
      " [ 0.8112  0.2226 -0.3509  0.6741 -0.6564]]\n",
      "\n",
      " Absolue difference btw max and min value in each row:\n",
      "[1.8454 1.113  1.6953 0.8509 1.4676]\n"
     ]
    }
   ],
   "source": [
    "## Your code here down\n",
    "import numpy as np \n",
    "\n",
    "arr_2d = np.random.uniform(-1,1, (5,5)).round(4)\n",
    "print(\"2D numpy array btw -1 and 1:\")\n",
    "print(arr_2d)\n",
    "\n",
    "max_value = np.max(arr_2d, axis=1)\n",
    "min_value = np.min(arr_2d, axis=1)\n",
    "abs_row_diff = np.abs(max_value - min_value)\n",
    "\n",
    "print(\"\\n Absolue difference btw max and min value in each row:\")\n",
    "print(abs_row_diff)\n"
   ]
  },
  {
   "attachments": {},
   "cell_type": "markdown",
   "metadata": {},
   "source": [
    "## Pandas"
   ]
  },
  {
   "attachments": {},
   "cell_type": "markdown",
   "metadata": {},
   "source": [
    "Please refer the dataframe (farm data) we have created in the training. Please copy that cell and paste it below before starting this part. "
   ]
  },
  {
   "cell_type": "code",
   "execution_count": 11,
   "metadata": {},
   "outputs": [],
   "source": [
    "import random\n",
    "import pandas as pd\n",
    "\n",
    "# Define the range for longitude and latitude\n",
    "lon_range = (-105, -100)\n",
    "lat_range = (50, 52)\n",
    "\n",
    "# Define the list of soil types\n",
    "soil_types = ['black', 'gray', 'dark brown', 'brown', None]\n",
    "\n",
    "# Create an empty list to store the farms\n",
    "farms = []\n",
    "\n",
    "# Generate 40 farms\n",
    "for i in range(200):\n",
    "    farm = {\n",
    "        'farm_name': f'Farm {i+1}', # f is formated string\n",
    "        'farm_lon': round(random.uniform(lon_range[0], lon_range[1]), 2), # random lon with 2 decimal points\n",
    "        'farm_lat': round(random.uniform(lat_range[0], lat_range[1]), 2), # rantom lat with 2 decimal points\n",
    "        'temperature': round(random.uniform(18, 33), 1), #random temp with 1 decimal points\n",
    "        'precipitation': round(random.uniform(20, 90), 1), # random prec with 1 decimal points\n",
    "        'soil_type': random.choice(soil_types) # random soil types from above list\n",
    "    }\n",
    "    farms.append(farm)"
   ]
  },
  {
   "cell_type": "code",
   "execution_count": 12,
   "metadata": {},
   "outputs": [
    {
     "name": "stdout",
     "output_type": "stream",
     "text": [
      "    farm_name  farm_lon  farm_lat  temperature  precipitation   soil_type\n",
      "0      Farm 1   -103.54     50.37         25.7           85.8       black\n",
      "1      Farm 2   -103.60     50.48         19.1           58.2  dark brown\n",
      "2      Farm 3   -104.41     50.94         22.9           48.3       brown\n",
      "3      Farm 4   -103.54     50.81         20.6           86.6        gray\n",
      "4      Farm 5   -103.39     51.54         31.1           23.1        None\n",
      "5      Farm 6   -100.23     51.09         32.3           83.1       brown\n",
      "6      Farm 7   -104.45     50.33         26.3           38.5       brown\n",
      "7      Farm 8   -104.40     51.73         21.4           76.7        None\n",
      "8      Farm 9   -101.25     50.25         23.3           51.4        gray\n",
      "9     Farm 10   -104.45     50.38         21.9           72.8        gray\n",
      "10    Farm 11   -104.86     50.53         18.5           41.6       brown\n",
      "11    Farm 12   -100.73     51.02         19.7           61.9       black\n",
      "12    Farm 13   -100.09     50.61         32.3           60.3  dark brown\n",
      "13    Farm 14   -102.55     51.52         21.2           64.9        gray\n",
      "14    Farm 15   -101.48     51.32         28.9           74.3        gray\n",
      "15    Farm 16   -102.33     51.67         20.7           29.8       black\n",
      "16    Farm 17   -100.56     50.01         21.2           63.1        gray\n",
      "17    Farm 18   -102.61     50.46         25.5           60.2       black\n",
      "18    Farm 19   -103.91     51.31         31.5           52.7       black\n",
      "19    Farm 20   -101.82     50.67         27.3           43.7       black\n",
      "20    Farm 21   -104.72     51.55         19.0           33.5        gray\n",
      "21    Farm 22   -100.94     51.38         28.0           26.0        gray\n",
      "22    Farm 23   -104.04     50.21         25.4           45.0        gray\n",
      "23    Farm 24   -104.14     51.34         23.3           68.5       black\n",
      "24    Farm 25   -103.98     51.57         24.9           83.7       black\n",
      "25    Farm 26   -100.92     50.01         26.4           44.2       brown\n",
      "26    Farm 27   -101.07     51.79         22.4           56.6        gray\n",
      "27    Farm 28   -103.27     50.98         28.0           23.7        None\n",
      "28    Farm 29   -101.99     51.54         28.1           70.8       brown\n",
      "29    Farm 30   -103.08     51.73         24.6           36.4  dark brown\n",
      "30    Farm 31   -104.48     50.06         18.0           30.1  dark brown\n",
      "31    Farm 32   -100.08     51.87         26.6           35.0  dark brown\n",
      "32    Farm 33   -102.28     51.04         25.4           67.0  dark brown\n",
      "33    Farm 34   -104.46     51.79         26.9           59.5        gray\n",
      "34    Farm 35   -104.66     51.09         30.5           78.8  dark brown\n",
      "35    Farm 36   -101.13     50.52         20.8           49.7       brown\n",
      "36    Farm 37   -101.92     50.35         18.3           55.6       brown\n",
      "37    Farm 38   -104.46     51.51         27.7           60.4       black\n",
      "38    Farm 39   -103.61     51.59         32.7           39.7       brown\n",
      "39    Farm 40   -102.62     50.16         18.7           22.3       brown\n",
      "40    Farm 41   -101.36     50.99         32.6           32.5        None\n",
      "41    Farm 42   -101.49     51.31         23.7           55.6  dark brown\n",
      "42    Farm 43   -100.73     51.77         20.7           62.6  dark brown\n",
      "43    Farm 44   -103.69     50.28         27.6           81.4       black\n",
      "44    Farm 45   -102.36     50.04         28.4           44.0       brown\n",
      "45    Farm 46   -104.01     51.21         23.8           73.1        gray\n",
      "46    Farm 47   -103.52     50.68         27.5           71.5  dark brown\n",
      "47    Farm 48   -102.10     50.29         28.6           23.1       black\n",
      "48    Farm 49   -103.51     50.13         20.3           25.0        gray\n",
      "49    Farm 50   -102.51     50.57         27.7           26.7  dark brown\n",
      "50    Farm 51   -104.43     50.63         27.4           85.0  dark brown\n",
      "51    Farm 52   -103.07     50.13         33.0           55.2       brown\n",
      "52    Farm 53   -100.13     50.26         23.0           65.7        gray\n",
      "53    Farm 54   -104.40     50.09         21.2           57.9       black\n",
      "54    Farm 55   -103.27     50.90         20.1           67.6       brown\n",
      "55    Farm 56   -104.37     51.75         21.3           31.6       brown\n",
      "56    Farm 57   -103.33     51.02         32.2           51.3        gray\n",
      "57    Farm 58   -100.56     50.44         31.5           32.7        None\n",
      "58    Farm 59   -103.71     50.88         31.8           28.3  dark brown\n",
      "59    Farm 60   -102.64     51.61         20.8           26.3  dark brown\n",
      "60    Farm 61   -101.97     50.71         20.5           42.1        gray\n",
      "61    Farm 62   -101.74     50.53         25.5           87.4  dark brown\n",
      "62    Farm 63   -100.49     51.06         25.5           36.5  dark brown\n",
      "63    Farm 64   -103.99     51.61         25.7           84.9       brown\n",
      "64    Farm 65   -104.28     50.53         22.2           78.7        gray\n",
      "65    Farm 66   -104.36     50.91         18.8           27.6       brown\n",
      "66    Farm 67   -100.19     50.11         29.5           65.1  dark brown\n",
      "67    Farm 68   -103.61     50.13         20.6           53.5       brown\n",
      "68    Farm 69   -103.87     50.02         19.6           67.2  dark brown\n",
      "69    Farm 70   -101.66     50.26         22.2           51.3       brown\n",
      "70    Farm 71   -100.79     51.94         23.1           30.9       brown\n",
      "71    Farm 72   -101.91     51.67         24.5           26.1        None\n",
      "72    Farm 73   -101.36     50.55         19.4           31.6       brown\n",
      "73    Farm 74   -101.75     51.12         26.9           46.3  dark brown\n",
      "74    Farm 75   -104.15     50.43         21.2           69.5        gray\n",
      "75    Farm 76   -100.48     50.15         32.5           72.2       black\n",
      "76    Farm 77   -104.24     50.41         22.6           78.1  dark brown\n",
      "77    Farm 78   -100.74     50.75         31.5           21.4       brown\n",
      "78    Farm 79   -102.54     50.29         26.1           68.1        gray\n",
      "79    Farm 80   -102.24     51.23         29.0           58.4        None\n",
      "80    Farm 81   -102.68     50.39         23.4           83.8  dark brown\n",
      "81    Farm 82   -100.90     50.76         26.0           79.6  dark brown\n",
      "82    Farm 83   -103.80     51.73         25.4           34.3        None\n",
      "83    Farm 84   -104.01     51.93         32.5           33.2       brown\n",
      "84    Farm 85   -101.19     51.92         32.3           60.2        None\n",
      "85    Farm 86   -103.89     51.16         20.9           42.7       black\n",
      "86    Farm 87   -101.25     51.00         25.4           61.6       brown\n",
      "87    Farm 88   -102.03     51.16         30.2           75.7  dark brown\n",
      "88    Farm 89   -101.47     50.37         32.2           22.4  dark brown\n",
      "89    Farm 90   -102.27     50.61         24.2           72.9  dark brown\n",
      "90    Farm 91   -102.57     50.36         26.3           71.8  dark brown\n",
      "91    Farm 92   -103.79     50.50         25.7           32.5        None\n",
      "92    Farm 93   -103.41     51.27         27.4           66.7       brown\n",
      "93    Farm 94   -102.42     51.51         30.8           86.9        gray\n",
      "94    Farm 95   -102.72     51.06         21.6           42.9        gray\n",
      "95    Farm 96   -104.58     51.29         22.3           59.0        gray\n",
      "96    Farm 97   -100.33     51.35         28.9           24.7  dark brown\n",
      "97    Farm 98   -100.99     51.35         19.8           25.3       brown\n",
      "98    Farm 99   -100.48     51.69         23.9           56.6        None\n",
      "99   Farm 100   -103.18     51.31         27.8           21.8        gray\n",
      "100  Farm 101   -103.19     50.66         29.0           39.0       brown\n",
      "101  Farm 102   -103.11     50.35         32.4           67.1        gray\n",
      "102  Farm 103   -103.96     51.39         18.4           57.4       black\n",
      "103  Farm 104   -102.93     51.67         29.5           83.8       brown\n",
      "104  Farm 105   -102.05     51.63         23.0           26.5       black\n",
      "105  Farm 106   -101.75     50.29         27.1           29.5       brown\n",
      "106  Farm 107   -100.20     51.03         27.5           88.2       brown\n",
      "107  Farm 108   -102.78     50.69         26.9           41.5       brown\n",
      "108  Farm 109   -102.22     50.23         27.6           40.3        None\n",
      "109  Farm 110   -104.29     50.52         25.2           22.1        gray\n",
      "110  Farm 111   -103.56     51.47         32.1           41.0  dark brown\n",
      "111  Farm 112   -101.43     51.81         18.7           56.6  dark brown\n",
      "112  Farm 113   -104.45     51.05         25.3           85.2       brown\n",
      "113  Farm 114   -103.35     51.40         21.5           43.5        None\n",
      "114  Farm 115   -103.29     51.50         31.0           38.9        gray\n",
      "115  Farm 116   -102.04     51.21         21.5           41.0       black\n",
      "116  Farm 117   -103.50     50.50         22.4           69.8       brown\n",
      "117  Farm 118   -101.88     50.16         30.2           52.4       brown\n",
      "118  Farm 119   -104.30     50.25         22.4           83.3       brown\n",
      "119  Farm 120   -102.40     51.33         18.2           80.2        None\n",
      "120  Farm 121   -102.36     51.93         20.7           89.0        None\n",
      "121  Farm 122   -101.40     51.41         31.2           66.7        gray\n",
      "122  Farm 123   -104.17     51.25         25.9           65.4       brown\n",
      "123  Farm 124   -103.59     51.95         31.5           52.9       brown\n",
      "124  Farm 125   -104.43     50.55         22.2           56.9       brown\n",
      "125  Farm 126   -100.41     51.36         30.1           60.2        gray\n",
      "126  Farm 127   -102.68     51.33         22.3           87.4       brown\n",
      "127  Farm 128   -103.91     51.31         20.5           70.8        gray\n",
      "128  Farm 129   -103.98     51.68         26.0           63.0  dark brown\n",
      "129  Farm 130   -102.10     50.61         21.8           68.2  dark brown\n",
      "130  Farm 131   -101.23     50.48         29.1           63.3       black\n",
      "131  Farm 132   -100.71     51.04         32.1           51.1        None\n",
      "132  Farm 133   -101.83     50.85         25.1           36.6        gray\n",
      "133  Farm 134   -100.43     51.47         28.2           42.1       black\n",
      "134  Farm 135   -100.19     51.32         31.5           52.4  dark brown\n",
      "135  Farm 136   -101.94     50.63         27.8           63.3       black\n",
      "136  Farm 137   -101.20     51.35         30.3           51.2        None\n",
      "137  Farm 138   -100.67     50.70         30.9           55.4        None\n",
      "138  Farm 139   -103.46     50.41         27.8           72.1        gray\n",
      "139  Farm 140   -101.05     50.94         20.3           68.3        None\n",
      "140  Farm 141   -100.78     51.14         27.8           42.3        None\n",
      "141  Farm 142   -100.66     50.51         23.5           58.2       brown\n",
      "142  Farm 143   -101.71     51.01         25.5           72.2  dark brown\n",
      "143  Farm 144   -100.97     50.28         19.3           35.3        gray\n",
      "144  Farm 145   -103.07     50.34         28.8           86.5        gray\n",
      "145  Farm 146   -103.44     51.99         19.7           21.8       brown\n",
      "146  Farm 147   -103.43     50.49         25.9           24.3  dark brown\n",
      "147  Farm 148   -102.03     50.56         27.0           42.3       black\n",
      "148  Farm 149   -104.13     51.23         26.9           24.3        gray\n",
      "149  Farm 150   -101.30     50.44         30.2           66.6       brown\n",
      "150  Farm 151   -101.63     51.80         31.9           64.1        None\n",
      "151  Farm 152   -101.21     51.99         31.8           84.8       black\n",
      "152  Farm 153   -101.20     50.14         26.3           83.3  dark brown\n",
      "153  Farm 154   -104.89     51.80         26.3           73.1  dark brown\n",
      "154  Farm 155   -102.78     50.66         19.2           54.2  dark brown\n",
      "155  Farm 156   -104.71     51.92         26.9           47.2       brown\n",
      "156  Farm 157   -102.57     50.84         24.0           61.0       black\n",
      "157  Farm 158   -100.64     50.10         19.6           44.8        None\n",
      "158  Farm 159   -103.19     50.59         31.4           85.8        None\n",
      "159  Farm 160   -100.73     51.46         29.2           67.9       black\n",
      "160  Farm 161   -102.63     51.17         32.1           44.8  dark brown\n",
      "161  Farm 162   -104.49     50.44         32.7           71.8        gray\n",
      "162  Farm 163   -100.29     51.65         30.1           80.3       black\n",
      "163  Farm 164   -102.47     50.87         22.3           40.5       brown\n",
      "164  Farm 165   -103.20     51.70         26.5           22.0       black\n",
      "165  Farm 166   -101.00     50.57         18.2           31.0       brown\n",
      "166  Farm 167   -100.58     51.87         23.4           54.5       black\n",
      "167  Farm 168   -102.40     51.90         19.3           74.9  dark brown\n",
      "168  Farm 169   -100.15     51.70         28.4           63.7  dark brown\n",
      "169  Farm 170   -100.09     50.75         30.1           58.8       brown\n",
      "170  Farm 171   -100.85     50.11         32.3           24.9       brown\n",
      "171  Farm 172   -103.59     51.56         20.5           47.0        None\n",
      "172  Farm 173   -103.33     51.86         24.1           83.7  dark brown\n",
      "173  Farm 174   -104.47     51.18         20.6           57.1  dark brown\n",
      "174  Farm 175   -101.20     51.56         18.9           24.8       black\n",
      "175  Farm 176   -104.73     51.43         23.0           21.8       brown\n",
      "176  Farm 177   -104.39     50.66         26.2           21.5        None\n",
      "177  Farm 178   -104.47     50.70         31.2           26.8       brown\n",
      "178  Farm 179   -104.75     50.44         31.1           50.8        gray\n",
      "179  Farm 180   -100.61     50.79         23.1           56.8       brown\n",
      "180  Farm 181   -103.60     50.61         31.1           28.7       black\n",
      "181  Farm 182   -103.32     51.84         25.7           36.3        None\n",
      "182  Farm 183   -103.35     51.23         30.4           48.7  dark brown\n",
      "183  Farm 184   -100.91     51.42         24.7           49.2       black\n",
      "184  Farm 185   -100.85     51.36         29.4           87.7        gray\n",
      "185  Farm 186   -100.87     51.88         33.0           30.3       black\n",
      "186  Farm 187   -101.90     51.86         25.2           80.5        gray\n",
      "187  Farm 188   -104.35     51.75         32.4           83.5       black\n",
      "188  Farm 189   -100.47     50.49         25.5           32.7       black\n",
      "189  Farm 190   -104.41     50.37         21.8           33.2        None\n",
      "190  Farm 191   -101.94     50.71         19.5           46.5  dark brown\n",
      "191  Farm 192   -101.20     51.03         19.6           85.1        gray\n",
      "192  Farm 193   -100.24     50.13         29.7           69.3  dark brown\n",
      "193  Farm 194   -101.84     51.83         24.6           59.9        None\n",
      "194  Farm 195   -102.60     51.75         24.9           88.1       black\n",
      "195  Farm 196   -101.79     50.09         19.6           64.7  dark brown\n",
      "196  Farm 197   -101.26     51.64         20.4           88.7       brown\n",
      "197  Farm 198   -104.54     51.83         32.7           29.2        gray\n",
      "198  Farm 199   -103.73     51.65         31.0           40.3       black\n",
      "199  Farm 200   -102.30     51.49         21.5           88.9        None\n"
     ]
    }
   ],
   "source": [
    "\n",
    "df = pd.DataFrame(farms)\n",
    "print(df.to_string())"
   ]
  },
  {
   "attachments": {},
   "cell_type": "markdown",
   "metadata": {},
   "source": [
    "1. Select the rows where the temperature is above 20 degrees Celsius."
   ]
  },
  {
   "cell_type": "code",
   "execution_count": 13,
   "metadata": {},
   "outputs": [
    {
     "name": "stdout",
     "output_type": "stream",
     "text": [
      "    farm_name  farm_lon  farm_lat  temperature  precipitation soil_type\n",
      "0      Farm 1   -103.54     50.37         25.7           85.8     black\n",
      "2      Farm 3   -104.41     50.94         22.9           48.3     brown\n",
      "3      Farm 4   -103.54     50.81         20.6           86.6      gray\n",
      "4      Farm 5   -103.39     51.54         31.1           23.1      None\n",
      "5      Farm 6   -100.23     51.09         32.3           83.1     brown\n",
      "..        ...       ...       ...          ...            ...       ...\n",
      "194  Farm 195   -102.60     51.75         24.9           88.1     black\n",
      "196  Farm 197   -101.26     51.64         20.4           88.7     brown\n",
      "197  Farm 198   -104.54     51.83         32.7           29.2      gray\n",
      "198  Farm 199   -103.73     51.65         31.0           40.3     black\n",
      "199  Farm 200   -102.30     51.49         21.5           88.9      None\n",
      "\n",
      "[176 rows x 6 columns]\n"
     ]
    }
   ],
   "source": [
    "\n",
    "print(df[df[\"temperature\"]>20])\n"
   ]
  },
  {
   "attachments": {},
   "cell_type": "markdown",
   "metadata": {},
   "source": [
    "2. Sort the DataFrame by precipitation in descending order."
   ]
  },
  {
   "cell_type": "code",
   "execution_count": 14,
   "metadata": {},
   "outputs": [
    {
     "name": "stdout",
     "output_type": "stream",
     "text": [
      "    farm_name  farm_lon  farm_lat  temperature  precipitation soil_type\n",
      "120  Farm 121   -102.36     51.93         20.7           89.0      None\n",
      "199  Farm 200   -102.30     51.49         21.5           88.9      None\n",
      "196  Farm 197   -101.26     51.64         20.4           88.7     brown\n",
      "106  Farm 107   -100.20     51.03         27.5           88.2     brown\n",
      "194  Farm 195   -102.60     51.75         24.9           88.1     black\n",
      "..        ...       ...       ...          ...            ...       ...\n",
      "145  Farm 146   -103.44     51.99         19.7           21.8     brown\n",
      "99   Farm 100   -103.18     51.31         27.8           21.8      gray\n",
      "175  Farm 176   -104.73     51.43         23.0           21.8     brown\n",
      "176  Farm 177   -104.39     50.66         26.2           21.5      None\n",
      "77    Farm 78   -100.74     50.75         31.5           21.4     brown\n",
      "\n",
      "[200 rows x 6 columns]\n"
     ]
    }
   ],
   "source": [
    "\n",
    "print(df.sort_values(\"precipitation\", ascending=False))\n"
   ]
  },
  {
   "attachments": {},
   "cell_type": "markdown",
   "metadata": {},
   "source": [
    "3. Filter the DataFrame to include only the farms located within latitude (51.15 & 51.00) range."
   ]
  },
  {
   "cell_type": "code",
   "execution_count": 15,
   "metadata": {},
   "outputs": [
    {
     "name": "stdout",
     "output_type": "stream",
     "text": [
      "    farm_name  farm_lon  farm_lat  temperature  precipitation   soil_type\n",
      "5      Farm 6   -100.23     51.09         32.3           83.1       brown\n",
      "11    Farm 12   -100.73     51.02         19.7           61.9       black\n",
      "32    Farm 33   -102.28     51.04         25.4           67.0  dark brown\n",
      "34    Farm 35   -104.66     51.09         30.5           78.8  dark brown\n",
      "56    Farm 57   -103.33     51.02         32.2           51.3        gray\n",
      "62    Farm 63   -100.49     51.06         25.5           36.5  dark brown\n",
      "73    Farm 74   -101.75     51.12         26.9           46.3  dark brown\n",
      "86    Farm 87   -101.25     51.00         25.4           61.6       brown\n",
      "94    Farm 95   -102.72     51.06         21.6           42.9        gray\n",
      "106  Farm 107   -100.20     51.03         27.5           88.2       brown\n",
      "112  Farm 113   -104.45     51.05         25.3           85.2       brown\n",
      "131  Farm 132   -100.71     51.04         32.1           51.1        None\n",
      "140  Farm 141   -100.78     51.14         27.8           42.3        None\n",
      "142  Farm 143   -101.71     51.01         25.5           72.2  dark brown\n",
      "191  Farm 192   -101.20     51.03         19.6           85.1        gray\n"
     ]
    }
   ],
   "source": [
    "## Your code here down\n",
    "\n",
    "print(df[(df[\"farm_lat\"] >= 51.00) & (df[\"farm_lat\"] <= 51.15)])\n",
    "## Your code here up"
   ]
  },
  {
   "attachments": {},
   "cell_type": "markdown",
   "metadata": {},
   "source": [
    " 4. Calculate the standard deviation of precipitation for each soil type."
   ]
  },
  {
   "cell_type": "code",
   "execution_count": 16,
   "metadata": {},
   "outputs": [
    {
     "name": "stdout",
     "output_type": "stream",
     "text": [
      "soil_type\n",
      "black         20.404903\n",
      "brown         20.558905\n",
      "dark brown    19.177333\n",
      "gray          20.391806\n",
      "Name: precipitation, dtype: float64\n"
     ]
    }
   ],
   "source": [
    "std = df.groupby(\"soil_type\")[\"precipitation\"].std()\n",
    "\n",
    "print(std)"
   ]
  },
  {
   "attachments": {},
   "cell_type": "markdown",
   "metadata": {},
   "source": [
    "5. Calculate the cumulative sum of precipitation for each soil type."
   ]
  },
  {
   "cell_type": "code",
   "execution_count": 17,
   "metadata": {},
   "outputs": [
    {
     "name": "stdout",
     "output_type": "stream",
     "text": [
      "soil_type\n",
      "black         1908.0\n",
      "brown         2558.6\n",
      "dark brown    2675.0\n",
      "gray          2303.5\n",
      "Name: precipitation, dtype: float64\n"
     ]
    }
   ],
   "source": [
    "cum_sum = df.groupby(\"soil_type\")[\"precipitation\"].sum()\n",
    "\n",
    "print(cum_sum)"
   ]
  },
  {
   "attachments": {},
   "cell_type": "markdown",
   "metadata": {},
   "source": [
    "6. Determine the top 3 farms with the highest average temperature."
   ]
  },
  {
   "cell_type": "code",
   "execution_count": 28,
   "metadata": {},
   "outputs": [
    {
     "name": "stdout",
     "output_type": "stream",
     "text": [
      "    farm_name  farm_lon  farm_lat  temperature  precipitation soil_type\n",
      "185  Farm 186   -100.87     51.88         33.0           30.3     black\n",
      "51    Farm 52   -103.07     50.13         33.0           55.2     brown\n",
      "38    Farm 39   -103.61     51.59         32.7           39.7     brown\n"
     ]
    }
   ],
   "source": [
    "\n",
    "high_temp = df.sort_values(\"temperature\", ascending=False).head(3)\n",
    "print(high_temp)\n"
   ]
  },
  {
   "attachments": {},
   "cell_type": "markdown",
   "metadata": {},
   "source": [
    "7. Find famers in each soil type that have the highest temperature."
   ]
  },
  {
   "cell_type": "code",
   "execution_count": 30,
   "metadata": {},
   "outputs": [
    {
     "name": "stdout",
     "output_type": "stream",
     "text": [
      "soil_type\n",
      "black         33.0\n",
      "brown         33.0\n",
      "dark brown    32.3\n",
      "gray          32.7\n",
      "Name: temperature, dtype: float64\n"
     ]
    }
   ],
   "source": [
    "soil_temp = df.groupby(\"soil_type\")[\"temperature\"].max()\n",
    "\n",
    "print(soil_temp)\n"
   ]
  },
  {
   "attachments": {},
   "cell_type": "markdown",
   "metadata": {},
   "source": [
    "8. Create new column 'percentage_tot_prec' and add the percentage contribution of each farm's precipitation (relative to total precipitation) to the column."
   ]
  },
  {
   "cell_type": "code",
   "execution_count": 32,
   "metadata": {},
   "outputs": [
    {
     "name": "stdout",
     "output_type": "stream",
     "text": [
      "    farm_name  farm_lon  farm_lat  temperature  precipitation   soil_type  \\\n",
      "0      Farm 1   -103.54     50.37         25.7           85.8       black   \n",
      "1      Farm 2   -103.60     50.48         19.1           58.2  dark brown   \n",
      "2      Farm 3   -104.41     50.94         22.9           48.3       brown   \n",
      "3      Farm 4   -103.54     50.81         20.6           86.6        gray   \n",
      "4      Farm 5   -103.39     51.54         31.1           23.1        None   \n",
      "..        ...       ...       ...          ...            ...         ...   \n",
      "195  Farm 196   -101.79     50.09         19.6           64.7  dark brown   \n",
      "196  Farm 197   -101.26     51.64         20.4           88.7       brown   \n",
      "197  Farm 198   -104.54     51.83         32.7           29.2        gray   \n",
      "198  Farm 199   -103.73     51.65         31.0           40.3       black   \n",
      "199  Farm 200   -102.30     51.49         21.5           88.9        None   \n",
      "\n",
      "     percentage_tot_prec  \n",
      "0               0.786817  \n",
      "1               0.533715  \n",
      "2               0.442928  \n",
      "3               0.794153  \n",
      "4               0.211835  \n",
      "..                   ...  \n",
      "195             0.593322  \n",
      "196             0.813411  \n",
      "197             0.267774  \n",
      "198             0.369565  \n",
      "199             0.815245  \n",
      "\n",
      "[200 rows x 7 columns]\n"
     ]
    }
   ],
   "source": [
    "total_precip = df[\"precipitation\"].sum()\n",
    "\n",
    "percent_precip = (df[\"precipitation\"] / total_precip) * 100\n",
    "\n",
    "df[\"percentage_tot_prec\"] = percent_precip\n",
    "\n",
    "print(df)"
   ]
  },
  {
   "attachments": {},
   "cell_type": "markdown",
   "metadata": {},
   "source": [
    "9. Create a new column called \"precipitation_rank\" that ranks the farms based on their precipitation in ascending order, with ties being assigned the same rank."
   ]
  },
  {
   "cell_type": "code",
   "execution_count": 35,
   "metadata": {},
   "outputs": [
    {
     "name": "stdout",
     "output_type": "stream",
     "text": [
      "    farm_name  farm_lon  farm_lat  temperature  precipitation   soil_type  \\\n",
      "0      Farm 1   -103.54     50.37         25.7           85.8       black   \n",
      "1      Farm 2   -103.60     50.48         19.1           58.2  dark brown   \n",
      "2      Farm 3   -104.41     50.94         22.9           48.3       brown   \n",
      "3      Farm 4   -103.54     50.81         20.6           86.6        gray   \n",
      "4      Farm 5   -103.39     51.54         31.1           23.1        None   \n",
      "..        ...       ...       ...          ...            ...         ...   \n",
      "195  Farm 196   -101.79     50.09         19.6           64.7  dark brown   \n",
      "196  Farm 197   -101.26     51.64         20.4           88.7       brown   \n",
      "197  Farm 198   -104.54     51.83         32.7           29.2        gray   \n",
      "198  Farm 199   -103.73     51.65         31.0           40.3       black   \n",
      "199  Farm 200   -102.30     51.49         21.5           88.9        None   \n",
      "\n",
      "     percentage_tot_prec  precipitation_rank  \n",
      "0               0.786817               188.0  \n",
      "1               0.533715               109.0  \n",
      "2               0.442928                80.0  \n",
      "3               0.794153               191.0  \n",
      "4               0.211835                10.0  \n",
      "..                   ...                 ...  \n",
      "195             0.593322               131.0  \n",
      "196             0.813411               198.0  \n",
      "197             0.267774                29.0  \n",
      "198             0.369565                56.0  \n",
      "199             0.815245               199.0  \n",
      "\n",
      "[200 rows x 8 columns]\n"
     ]
    }
   ],
   "source": [
    "## Your code here down\n",
    "\n",
    "precip_rank = df[\"precipitation\"].rank(method='min')\n",
    "\n",
    "df[\"precipitation_rank\"] = precip_rank\n",
    "print(df)"
   ]
  },
  {
   "attachments": {},
   "cell_type": "markdown",
   "metadata": {},
   "source": [
    "10. Normalize the temperature column to a range between 0 and 1 for each farm."
   ]
  },
  {
   "cell_type": "code",
   "execution_count": 41,
   "metadata": {},
   "outputs": [
    {
     "name": "stdout",
     "output_type": "stream",
     "text": [
      "    farm_name  farm_lon  farm_lat  temperature  precipitation   soil_type  \\\n",
      "0      Farm 1   -103.54     50.37         25.7           85.8       black   \n",
      "1      Farm 2   -103.60     50.48         19.1           58.2  dark brown   \n",
      "2      Farm 3   -104.41     50.94         22.9           48.3       brown   \n",
      "3      Farm 4   -103.54     50.81         20.6           86.6        gray   \n",
      "4      Farm 5   -103.39     51.54         31.1           23.1        None   \n",
      "..        ...       ...       ...          ...            ...         ...   \n",
      "195  Farm 196   -101.79     50.09         19.6           64.7  dark brown   \n",
      "196  Farm 197   -101.26     51.64         20.4           88.7       brown   \n",
      "197  Farm 198   -104.54     51.83         32.7           29.2        gray   \n",
      "198  Farm 199   -103.73     51.65         31.0           40.3       black   \n",
      "199  Farm 200   -102.30     51.49         21.5           88.9        None   \n",
      "\n",
      "     percentage_tot_prec  precipitation_rank  normalized temp  \n",
      "0               0.786817               188.0         0.513333  \n",
      "1               0.533715               109.0         0.073333  \n",
      "2               0.442928                80.0         0.326667  \n",
      "3               0.794153               191.0         0.173333  \n",
      "4               0.211835                10.0         0.873333  \n",
      "..                   ...                 ...              ...  \n",
      "195             0.593322               131.0         0.106667  \n",
      "196             0.813411               198.0         0.160000  \n",
      "197             0.267774                29.0         0.980000  \n",
      "198             0.369565                56.0         0.866667  \n",
      "199             0.815245               199.0         0.233333  \n",
      "\n",
      "[200 rows x 9 columns]\n"
     ]
    }
   ],
   "source": [
    "## Your code here down\n",
    "max_temp = df[\"temperature\"].max()\n",
    "min_temp = df[\"temperature\"].min()\n",
    "\n",
    "norm_temp = (df[\"temperature\"] - min_temp) / (max_temp - min_temp)\n",
    "\n",
    "df[\"normalized temp\"] = norm_temp\n",
    "\n",
    "print(df)\n",
    "\n",
    "## Your code here up"
   ]
  },
  {
   "cell_type": "markdown",
   "metadata": {},
   "source": [
    "# Assignment 4"
   ]
  },
  {
   "cell_type": "markdown",
   "metadata": {},
   "source": [
    "## ETL"
   ]
  },
  {
   "cell_type": "markdown",
   "metadata": {},
   "source": [
    "11. Change column types accordingly."
   ]
  },
  {
   "cell_type": "code",
   "execution_count": 54,
   "metadata": {},
   "outputs": [
    {
     "name": "stdout",
     "output_type": "stream",
     "text": [
      "<class 'pandas.core.frame.DataFrame'>\n",
      "RangeIndex: 200 entries, 0 to 199\n",
      "Data columns (total 9 columns):\n",
      " #   Column               Non-Null Count  Dtype  \n",
      "---  ------               --------------  -----  \n",
      " 0   farm_name            200 non-null    string \n",
      " 1   farm_lon             200 non-null    float64\n",
      " 2   farm_lat             200 non-null    float64\n",
      " 3   temperature          200 non-null    float64\n",
      " 4   precipitation        200 non-null    float64\n",
      " 5   soil_type            171 non-null    string \n",
      " 6   percentage_tot_prec  200 non-null    float64\n",
      " 7   precipitation_rank   200 non-null    float64\n",
      " 8   normalized temp      200 non-null    float64\n",
      "dtypes: float64(7), string(2)\n",
      "memory usage: 14.2 KB\n",
      "<class 'pandas.core.frame.DataFrame'>\n",
      "RangeIndex: 200 entries, 0 to 199\n",
      "Data columns (total 9 columns):\n",
      " #   Column               Non-Null Count  Dtype  \n",
      "---  ------               --------------  -----  \n",
      " 0   farm_name            200 non-null    string \n",
      " 1   farm_lon             200 non-null    float64\n",
      " 2   farm_lat             200 non-null    float64\n",
      " 3   temperature          200 non-null    float64\n",
      " 4   precipitation        200 non-null    float64\n",
      " 5   soil_type            171 non-null    string \n",
      " 6   percentage_tot_prec  200 non-null    float64\n",
      " 7   precipitation_rank   200 non-null    float64\n",
      " 8   normalized temp      200 non-null    float64\n",
      "dtypes: float64(7), string(2)\n",
      "memory usage: 14.2 KB\n"
     ]
    }
   ],
   "source": [
    "## Your code here down\n",
    "df.info()\n",
    "\n",
    "df[\"farm_name\"] = df[\"farm_name\"].astype('string')\n",
    "df[\"soil_type\"] = df[\"soil_type\"].astype('string')\n",
    "\n",
    "df.info()\n",
    "## Your code here up"
   ]
  },
  {
   "cell_type": "markdown",
   "metadata": {},
   "source": [
    "## EDA"
   ]
  },
  {
   "cell_type": "markdown",
   "metadata": {},
   "source": [
    "12. Find missing values and give information how would you handle them"
   ]
  },
  {
   "cell_type": "code",
   "execution_count": 66,
   "metadata": {},
   "outputs": [
    {
     "name": "stdout",
     "output_type": "stream",
     "text": [
      "    farm_name  farm_lon  farm_lat  temperature  precipitation soil_type  \\\n",
      "4      Farm 5   -103.39     51.54         31.1           23.1      <NA>   \n",
      "7      Farm 8   -104.40     51.73         21.4           76.7      <NA>   \n",
      "27    Farm 28   -103.27     50.98         28.0           23.7      <NA>   \n",
      "40    Farm 41   -101.36     50.99         32.6           32.5      <NA>   \n",
      "57    Farm 58   -100.56     50.44         31.5           32.7      <NA>   \n",
      "71    Farm 72   -101.91     51.67         24.5           26.1      <NA>   \n",
      "79    Farm 80   -102.24     51.23         29.0           58.4      <NA>   \n",
      "82    Farm 83   -103.80     51.73         25.4           34.3      <NA>   \n",
      "84    Farm 85   -101.19     51.92         32.3           60.2      <NA>   \n",
      "91    Farm 92   -103.79     50.50         25.7           32.5      <NA>   \n",
      "98    Farm 99   -100.48     51.69         23.9           56.6      <NA>   \n",
      "108  Farm 109   -102.22     50.23         27.6           40.3      <NA>   \n",
      "113  Farm 114   -103.35     51.40         21.5           43.5      <NA>   \n",
      "119  Farm 120   -102.40     51.33         18.2           80.2      <NA>   \n",
      "120  Farm 121   -102.36     51.93         20.7           89.0      <NA>   \n",
      "131  Farm 132   -100.71     51.04         32.1           51.1      <NA>   \n",
      "136  Farm 137   -101.20     51.35         30.3           51.2      <NA>   \n",
      "137  Farm 138   -100.67     50.70         30.9           55.4      <NA>   \n",
      "139  Farm 140   -101.05     50.94         20.3           68.3      <NA>   \n",
      "140  Farm 141   -100.78     51.14         27.8           42.3      <NA>   \n",
      "150  Farm 151   -101.63     51.80         31.9           64.1      <NA>   \n",
      "157  Farm 158   -100.64     50.10         19.6           44.8      <NA>   \n",
      "158  Farm 159   -103.19     50.59         31.4           85.8      <NA>   \n",
      "171  Farm 172   -103.59     51.56         20.5           47.0      <NA>   \n",
      "176  Farm 177   -104.39     50.66         26.2           21.5      <NA>   \n",
      "181  Farm 182   -103.32     51.84         25.7           36.3      <NA>   \n",
      "189  Farm 190   -104.41     50.37         21.8           33.2      <NA>   \n",
      "193  Farm 194   -101.84     51.83         24.6           59.9      <NA>   \n",
      "199  Farm 200   -102.30     51.49         21.5           88.9      <NA>   \n",
      "\n",
      "     percentage_tot_prec  precipitation_rank  normalized temp  \n",
      "4               0.211835                10.0         0.873333  \n",
      "7               0.703366               166.0         0.226667  \n",
      "27              0.217337                12.0         0.666667  \n",
      "40              0.298037                38.0         0.973333  \n",
      "57              0.299871                40.0         0.900000  \n",
      "71              0.239346                21.0         0.433333  \n",
      "79              0.535549               111.0         0.733333  \n",
      "82              0.314543                45.0         0.493333  \n",
      "84              0.552056               116.0         0.953333  \n",
      "91              0.298037                38.0         0.513333  \n",
      "98              0.519042               101.0         0.393333  \n",
      "108             0.369565                56.0         0.640000  \n",
      "113             0.398911                69.0         0.233333  \n",
      "119             0.735463               171.0         0.013333  \n",
      "120             0.816162               200.0         0.180000  \n",
      "131             0.468605                85.0         0.940000  \n",
      "136             0.469522                86.0         0.820000  \n",
      "137             0.508038                98.0         0.860000  \n",
      "139             0.626335               146.0         0.153333  \n",
      "140             0.387906                65.0         0.653333  \n",
      "150             0.587820               130.0         0.926667  \n",
      "157             0.410832                73.0         0.106667  \n",
      "158             0.786817               188.0         0.893333  \n",
      "171             0.431007                78.0         0.166667  \n",
      "176             0.197163                 2.0         0.546667  \n",
      "181             0.332884                48.0         0.513333  \n",
      "189             0.304456                42.0         0.253333  \n",
      "193             0.549304               115.0         0.440000  \n",
      "199             0.815245               199.0         0.233333  \n",
      "\n",
      " Total rows with missing values: 29\n"
     ]
    }
   ],
   "source": [
    "## Depending on the nature of data and the type of analysis, missing values can be dropped or replaced\n",
    "\n",
    "missing_values = df[df.isnull().any(axis=1)]\n",
    "print(missing_values)\n",
    "\n",
    "print(f\"\\n Total rows with missing values: {len(missing_values)}\")\n"
   ]
  },
  {
   "cell_type": "markdown",
   "metadata": {},
   "source": [
    "13. Find outliers if there is any how would you handle them"
   ]
  },
  {
   "cell_type": "code",
   "execution_count": 89,
   "metadata": {},
   "outputs": [
    {
     "data": {
      "image/png": "[encoded data removed]",
      "text/plain": [
       "<Figure size 640x480 with 1 Axes>"
      ]
     },
     "metadata": {},
     "output_type": "display_data"
    }
   ],
   "source": [
    "import matplotlib.pyplot as plt\n",
    "\n",
    "# plt.boxplot(df['precipitation'])\n",
    "# plt.show()\n",
    "df.drop(columns=['farm_lon', 'farm_lat', 'precipitation_rank', 'normalized temp', 'percentage_tot_prec']).boxplot()\n",
    "plt.title('Boxplot of Temp & Precip')\n",
    "plt.xlabel('Farms', color='blue')\n",
    "plt.show()\n",
    "\n",
    "\n"
   ]
  },
  {
   "cell_type": "markdown",
   "metadata": {},
   "source": [
    "14. Find descriptive statistics for relavant columns and plot them by using bars."
   ]
  },
  {
   "cell_type": "code",
   "execution_count": 26,
   "metadata": {},
   "outputs": [],
   "source": [
    "## Your code here down\n",
    "\n",
    "\n",
    "## Your code here up"
   ]
  },
  {
   "cell_type": "markdown",
   "metadata": {},
   "source": [
    "15. Plot the distribution of relevant columns."
   ]
  },
  {
   "cell_type": "code",
   "execution_count": 27,
   "metadata": {},
   "outputs": [],
   "source": [
    "## Your code here down\n",
    "\n",
    "\n",
    "## Your code here up"
   ]
  }
 ],
 "metadata": {
  "kernelspec": {
   "display_name": "Python 3",
   "language": "python",
   "name": "python3"
  },
  "language_info": {
   "codemirror_mode": {
    "name": "ipython",
    "version": 3
   },
   "file_extension": ".py",
   "mimetype": "text/x-python",
   "name": "python",
   "nbconvert_exporter": "python",
   "pygments_lexer": "ipython3",
   "version": "3.11.4"
  },
  "orig_nbformat": 4
 },
 "nbformat": 4,
 "nbformat_minor": 2
}
