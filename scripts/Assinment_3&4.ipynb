{
 "cells": [
  {
   "attachments": {},
   "cell_type": "markdown",
   "metadata": {},
   "source": [
    "# Assignment 3"
   ]
  },
  {
   "attachments": {},
   "cell_type": "markdown",
   "metadata": {},
   "source": [
    "**Please follow the instructions. Do not add new cell! Write your code in designated areas.**"
   ]
  },
  {
   "cell_type": "code",
   "execution_count": 42,
   "metadata": {},
   "outputs": [
    {
     "name": "stdout",
     "output_type": "stream",
     "text": [
      "Assignment 3 & 4: Solutions by Olakunle Oyeniyi\n",
      "Local Time: 2023-10-02 12:32:42\n",
      "Computer ID: WIN-VAK2ONJP2K2\n"
     ]
    }
   ],
   "source": [
    "import datetime\n",
    "import socket\n",
    "\n",
    "# Get local time\n",
    "local_time = datetime.datetime.now().strftime(\"%Y-%m-%d %H:%M:%S\")\n",
    "\n",
    "# Get computer ID or hostname\n",
    "computer_id = socket.gethostname()\n",
    "\n",
    "# Print output with local time and computer ID\n",
    "print('Assignment 3 & 4: Solutions by Olakunle Oyeniyi') \n",
    "print('Local Time:', local_time)\n",
    "print('Computer ID:', computer_id)"
   ]
  },
  {
   "attachments": {},
   "cell_type": "markdown",
   "metadata": {},
   "source": [
    "## NumPy"
   ]
  },
  {
   "attachments": {},
   "cell_type": "markdown",
   "metadata": {},
   "source": [
    "1. Create a 2D numpy array of size 4x5 with random integers between 1 and 10. Find the maximum value of the entire array. \n"
   ]
  },
  {
   "cell_type": "code",
   "execution_count": 43,
   "metadata": {},
   "outputs": [
    {
     "name": "stdout",
     "output_type": "stream",
     "text": [
      "Random Integers: [8, 6, 7, 10, 8, 6, 7, 3, 9, 6, 2, 6, 4, 9, 9, 4, 4, 9, 8, 5]\n",
      "\n",
      "2-D Array:\n",
      " [[ 8  6  7 10  8]\n",
      " [ 6  7  3  9  6]\n",
      " [ 2  6  4  9  9]\n",
      " [ 4  4  9  8  5]]\n",
      "\n",
      "Maximum value: 10 \n"
     ]
    }
   ],
   "source": [
    "import numpy as np\n",
    "\n",
    "random_integers = [] \n",
    "\n",
    "for i in range(1, 21):\n",
    "    random_int = np.random.randint(1, 11)  \n",
    "    random_integers.append(random_int)\n",
    "print(f\"Random Integers: {random_integers}\\n\")\n",
    "\n",
    "array_2d = np.array(random_integers).reshape(4, 5)\n",
    "print(f\"2-D Array:\\n {array_2d}\\n\")\n",
    "\n",
    "max_value = np.max(array_2d)\n",
    "print(f\"Maximum value: {max_value} \")"
   ]
  },
  {
   "attachments": {},
   "cell_type": "markdown",
   "metadata": {},
   "source": [
    "2. Create a 1D numpy array of size 20 with random floats between 0 and 1. Reshape the array into a 4x5 matrix. Compute the mean of each row."
   ]
  },
  {
   "cell_type": "code",
   "execution_count": 44,
   "metadata": {},
   "outputs": [
    {
     "name": "stdout",
     "output_type": "stream",
     "text": [
      "Random Integers: [0.31, 0.18, 0.73, 0.72, 0.25, 0.33, 0.91, 0.74, 0.71, 1.0, 0.67, 0.97, 0.21, 0.27, 0.53, 0.46, 0.97, 0.13, 0.25, 0.2]\n",
      "\n",
      "1-D Array:\n",
      " [0.31 0.18 0.73 0.72 0.25 0.33 0.91 0.74 0.71 1.   0.67 0.97 0.21 0.27\n",
      " 0.53 0.46 0.97 0.13 0.25 0.2 ]\n",
      "\n",
      "1-D Array is reshaped to:\n",
      " [[0.31 0.18 0.73 0.72 0.25]\n",
      " [0.33 0.91 0.74 0.71 1.  ]\n",
      " [0.67 0.97 0.21 0.27 0.53]\n",
      " [0.46 0.97 0.13 0.25 0.2 ]]\n",
      "\n",
      "Mean Value: [0.438 0.738 0.53  0.402]\n"
     ]
    }
   ],
   "source": [
    "import numpy as np\n",
    "\n",
    "random_integers = [] \n",
    "\n",
    "for i in range(1, 21):\n",
    "    random_int = round(np.random.uniform(0, 1), 2)  \n",
    "    random_integers.append(random_int)\n",
    "print(f\"Random Integers: {random_integers}\\n\")\n",
    "\n",
    "array_1d = np.array(random_integers)\n",
    "print(f\"1-D Array:\\n {array_1d}\\n\")\n",
    "\n",
    "array_1d_reshape = array_1d.reshape(4, 5)\n",
    "print(f\"1-D Array is reshaped to:\\n {array_1d_reshape}\\n\")\n",
    "\n",
    "mean = np.mean(array_1d_reshape, axis=1)\n",
    "print(f\"Mean Value: {mean}\")"
   ]
  },
  {
   "attachments": {},
   "cell_type": "markdown",
   "metadata": {},
   "source": [
    "3. Create a 2D numpy array of size 5x5 with random integers between 1 and 100. Compute standard deviation of each column."
   ]
  },
  {
   "cell_type": "code",
   "execution_count": 45,
   "metadata": {},
   "outputs": [
    {
     "name": "stdout",
     "output_type": "stream",
     "text": [
      "2D Array: \n",
      "[[ 57  32  27  15  10]\n",
      " [ 78  58  28  67  73]\n",
      " [ 71  26  92  15  33]\n",
      " [ 31  45  41   1  86]\n",
      " [ 86  39  78  67 100]]\n",
      "\n",
      "Standard Deviation of Each Column: \n",
      "[19.3142 11.0454 26.7985 28.2276 33.6844]\n"
     ]
    }
   ],
   "source": [
    "#Use the 'np.random.randint' function from 'numpy' module to generate the random integers.\n",
    "import numpy as np\n",
    "\n",
    "array_2d = np.random.randint(1, 101, size=(5, 5))\n",
    "\n",
    "std_dev = np.std(array_2d, axis=0).round(4)\n",
    "\n",
    "\n",
    "print(f\"2D Array: \\n{array_2d}\\n\")\n",
    "print(f\"Standard Deviation of Each Column: \\n{std_dev}\")"
   ]
  },
  {
   "attachments": {},
   "cell_type": "markdown",
   "metadata": {},
   "source": [
    "4. Create a 1D numpy array of size 15 with random floats between -10 and 10. Replace all negative values with their absolute values."
   ]
  },
  {
   "cell_type": "code",
   "execution_count": 46,
   "metadata": {},
   "outputs": [
    {
     "name": "stdout",
     "output_type": "stream",
     "text": [
      "1D numpy array of size 15: \n",
      " [ 5.01 -3.07 -7.75 -7.04  6.36 -0.55  6.98 -5.44  1.02 -2.77 -7.21 -6.11\n",
      " -1.81  1.02 -8.37]\n",
      "\n",
      "Absolute Values: \n",
      " [5.01 3.07 7.75 7.04 6.36 0.55 6.98 5.44 1.02 2.77 7.21 6.11 1.81 1.02\n",
      " 8.37]\n"
     ]
    }
   ],
   "source": [
    "import numpy as np\n",
    "\n",
    "arr_1d = np.random.uniform(-10, 10, size=15).round(2)\n",
    "\n",
    "print(f\"1D numpy array of size 15: \\n {arr_1d}\\n\")\n",
    "\n",
    "abs_value = np.abs(arr_1d)\n",
    "print(f\"Absolute Values: \\n {abs_value}\")\n",
    "\n",
    "\n",
    "\n",
    "\n",
    "\n"
   ]
  },
  {
   "attachments": {},
   "cell_type": "markdown",
   "metadata": {},
   "source": [
    "5. Create a 2D numpy array of size 3x4 with random integers between 1 and 100. Calculate the sum of all elements in the array."
   ]
  },
  {
   "cell_type": "code",
   "execution_count": 47,
   "metadata": {},
   "outputs": [
    {
     "name": "stdout",
     "output_type": "stream",
     "text": [
      "2D numpy array of size 3x4: \n",
      "[[99 42 61 40]\n",
      " [ 5 57  2 44]\n",
      " [97 34 33  7]]\n",
      "\n",
      "The sum of all elements in the array is: 521\n"
     ]
    }
   ],
   "source": [
    "import numpy as np\n",
    "\n",
    "array_2d_numpy = np.random.randint(1, 100, size=(3, 4))\n",
    "\n",
    "print(f\"2D numpy array of size 3x4: \\n{array_2d_numpy}\\n\")\n",
    "\n",
    "sum_arr_2d = np.sum(array_2d_numpy)\n",
    "print(f\"The sum of all elements in the array is: {sum_arr_2d}\")"
   ]
  },
  {
   "attachments": {},
   "cell_type": "markdown",
   "metadata": {},
   "source": [
    "7. Create a 2D numpy array of size 4x6 with random floats between 0 and 1. Normalize each column by subtracting the column mean and dividing by the column standard deviation."
   ]
  },
  {
   "cell_type": "code",
   "execution_count": 48,
   "metadata": {},
   "outputs": [
    {
     "name": "stdout",
     "output_type": "stream",
     "text": [
      "2D numpy array of 4x6:\n",
      " [[0.911 0.094 0.082 0.21  0.547 0.535]\n",
      " [0.581 0.292 0.837 0.517 0.385 0.553]\n",
      " [0.986 0.709 0.771 0.393 0.601 0.557]\n",
      " [0.295 0.983 0.098 0.063 0.379 0.337]]\n",
      "\n",
      "Normalized column: \n",
      "[[ 0. -2. -2. -1.  0.  0.]\n",
      " [-1. -1.  1.  1. -1.  0.]\n",
      " [ 1.  0.  0.  0.  1.  0.]\n",
      " [-2.  1. -1. -2. -2. -2.]]\n"
     ]
    }
   ],
   "source": [
    "import numpy as np\n",
    "arr_2d = (np.random.rand(4, 6)).round(3)\n",
    "print(f\"2D numpy array of 4x6:\\n {arr_2d}\\n\")\n",
    "\n",
    "column_mean = np.mean(arr_2d, axis=0)\n",
    "\n",
    "std_dev = np.std(arr_2d, axis=0).round(3)\n",
    "\n",
    "norm = (arr_2d - column_mean) // std_dev\n",
    "print(f\"Normalized column: \\n{norm}\")"
   ]
  },
  {
   "attachments": {},
   "cell_type": "markdown",
   "metadata": {},
   "source": [
    "8. Create a 2D numpy array of size 10x10 with random integers between 1 and 100. Replace all values greater than 50 with 1 and all other values with 0."
   ]
  },
  {
   "cell_type": "code",
   "execution_count": 49,
   "metadata": {},
   "outputs": [
    {
     "name": "stdout",
     "output_type": "stream",
     "text": [
      "2D numpy 10x10 array:\n",
      " [[97 74 47  1  8 32 95 14 25 30]\n",
      " [25 28 33 37 15 52 95 17 24 36]\n",
      " [ 8 55 92 92  2 73  7 38  9 51]\n",
      " [99 21 81 36 16 93 18 23 21 56]\n",
      " [80 84 42 43 26 62 65 26 54  3]\n",
      " [55 80 51 32 71 37 89 58 55 24]\n",
      " [39 53 37 94 76 86 55 98 62 66]\n",
      " [31 17 38 90 56 79 12 69 42 51]\n",
      " [76 68 67  9 13 52  6 49 72 13]\n",
      " [63 71  1  4 19 85 38 26 45 59]]\n",
      "\n",
      "Array with replaced vaules: \n",
      "[[1 1 0 0 0 0 1 0 0 0]\n",
      " [0 0 0 0 0 1 1 0 0 0]\n",
      " [0 1 1 1 0 1 0 0 0 1]\n",
      " [1 0 1 0 0 1 0 0 0 1]\n",
      " [1 1 0 0 0 1 1 0 1 0]\n",
      " [1 1 1 0 1 0 1 1 1 0]\n",
      " [0 1 0 1 1 1 1 1 1 1]\n",
      " [0 0 0 1 1 1 0 1 0 1]\n",
      " [1 1 1 0 0 1 0 0 1 0]\n",
      " [1 1 0 0 0 1 0 0 0 1]]\n"
     ]
    }
   ],
   "source": [
    "import numpy as np\n",
    "\n",
    "array_2d = np.random.randint(1, 100, size=(10, 10))\n",
    "print(f\"2D numpy 10x10 array:\\n {array_2d}\\n\")\n",
    "\n",
    "replace_value = np.zeros((10, 10), dtype=int)\n",
    "\n",
    "for x in range(10):\n",
    "    for y in range(10):\n",
    "        if array_2d[x, y] > 50:\n",
    "            replace_value[x, y] = 1\n",
    "\n",
    "print(f\"Array with replaced vaules: \\n{replace_value}\")\n"
   ]
  },
  {
   "attachments": {},
   "cell_type": "markdown",
   "metadata": {},
   "source": [
    "9. Create a 1D numpy array of size 50 with random floats between 0 and 1. Find the number of elements greater than 0.5."
   ]
  },
  {
   "cell_type": "code",
   "execution_count": 50,
   "metadata": {},
   "outputs": [
    {
     "name": "stdout",
     "output_type": "stream",
     "text": [
      " 1D numpy array: \n",
      "[0.5538 0.0794 0.2434 0.0388 0.8005 0.1588 0.9461 0.01   0.7579 0.7819\n",
      " 0.165  0.5748 0.8577 0.1658 0.4528 0.5439 0.4279 0.5097 0.9766 0.2494\n",
      " 0.5779 0.8564 0.8063 0.184  0.2261 0.4875 0.3341 0.9737 0.807  0.9092\n",
      " 0.9638 0.0261 0.8686 0.661  0.1545 0.4271 0.489  0.5245 0.0054 0.3761\n",
      " 0.777  0.9858 0.172  0.1491 0.073  0.6931 0.4739 0.3992 0.2369 0.6224]\n",
      "\n",
      "Elements greater than 0.5: \n",
      "[0.5538 0.8005 0.9461 0.7579 0.7819 0.5748 0.8577 0.5439 0.5097 0.9766\n",
      " 0.5779 0.8564 0.8063 0.9737 0.807  0.9092 0.9638 0.8686 0.661  0.5245\n",
      " 0.777  0.9858 0.6931 0.6224]\n",
      "\n",
      "Number of elements greater than 0.5: \n",
      "24\n"
     ]
    }
   ],
   "source": [
    "import numpy as np\n",
    "\n",
    "array_1d = np.random.rand(50).round(4)\n",
    "print(f\" 1D numpy array: \\n{array_1d}\\n\")\n",
    "\n",
    "elements_over_target = array_1d[array_1d > 0.5]\n",
    "\n",
    "print(f\"Elements greater than 0.5: \\n{elements_over_target}\\n\")\n",
    "\n",
    "number = len(elements_over_target)\n",
    "\n",
    "print(f\"Number of elements greater than 0.5: \\n{number}\")"
   ]
  },
  {
   "attachments": {},
   "cell_type": "markdown",
   "metadata": {},
   "source": [
    "10. Create a 2D numpy array of size 5x5 with random floats between -1 and 1. Find the absolute difference between the maximum and minimum values in each row."
   ]
  },
  {
   "cell_type": "code",
   "execution_count": 51,
   "metadata": {},
   "outputs": [
    {
     "name": "stdout",
     "output_type": "stream",
     "text": [
      "2D numpy array btw -1 and 1:\n",
      "[[-0.104   0.5814 -0.3442  0.7392 -0.3232]\n",
      " [-0.5581 -0.0206  0.5492 -0.7352 -0.6505]\n",
      " [ 0.148  -0.6703  0.7962  0.1397 -0.1635]\n",
      " [ 0.396  -0.7572  0.5303  0.2159 -0.2441]\n",
      " [ 0.888   0.5722 -0.0657 -0.0212  0.5296]]\n",
      "\n",
      " Absolue difference btw max and min value in each row:\n",
      "[1.0834 1.2844 1.4665 1.2875 0.9537]\n"
     ]
    }
   ],
   "source": [
    "## Your code here down\n",
    "import numpy as np \n",
    "\n",
    "arr_2d = np.random.uniform(-1,1, (5,5)).round(4)\n",
    "print(\"2D numpy array btw -1 and 1:\")\n",
    "print(arr_2d)\n",
    "\n",
    "max_value = np.max(arr_2d, axis=1)\n",
    "min_value = np.min(arr_2d, axis=1)\n",
    "abs_row_diff = np.abs(max_value - min_value)\n",
    "\n",
    "print(\"\\n Absolue difference btw max and min value in each row:\")\n",
    "print(abs_row_diff)\n"
   ]
  },
  {
   "attachments": {},
   "cell_type": "markdown",
   "metadata": {},
   "source": [
    "## Pandas"
   ]
  },
  {
   "attachments": {},
   "cell_type": "markdown",
   "metadata": {},
   "source": [
    "Please refer the dataframe (farm data) we have created in the training. Please copy that cell and paste it below before starting this part. "
   ]
  },
  {
   "cell_type": "code",
   "execution_count": 52,
   "metadata": {},
   "outputs": [],
   "source": [
    "import random\n",
    "import pandas as pd\n",
    "\n",
    "# Define the range for longitude and latitude\n",
    "lon_range = (-105, -100)\n",
    "lat_range = (50, 52)\n",
    "\n",
    "# Define the list of soil types\n",
    "soil_types = ['black', 'gray', 'dark brown', 'brown', None]\n",
    "\n",
    "# Create an empty list to store the farms\n",
    "farms = []\n",
    "\n",
    "# Generate 40 farms\n",
    "for i in range(200):\n",
    "    farm = {\n",
    "        'farm_name': f'Farm {i+1}', # f is formated string\n",
    "        'farm_lon': round(random.uniform(lon_range[0], lon_range[1]), 2), # random lon with 2 decimal points\n",
    "        'farm_lat': round(random.uniform(lat_range[0], lat_range[1]), 2), # rantom lat with 2 decimal points\n",
    "        'temperature': round(random.uniform(18, 33), 1), #random temp with 1 decimal points\n",
    "        'precipitation': round(random.uniform(20, 90), 1), # random prec with 1 decimal points\n",
    "        'soil_type': random.choice(soil_types) # random soil types from above list\n",
    "    }\n",
    "    farms.append(farm)"
   ]
  },
  {
   "cell_type": "code",
   "execution_count": 53,
   "metadata": {},
   "outputs": [
    {
     "name": "stdout",
     "output_type": "stream",
     "text": [
      "    farm_name  farm_lon  farm_lat  temperature  precipitation   soil_type\n",
      "0      Farm 1   -103.66     50.94         24.4           50.6        gray\n",
      "1      Farm 2   -101.63     50.89         20.2           32.6  dark brown\n",
      "2      Farm 3   -103.68     51.35         18.3           85.7       brown\n",
      "3      Farm 4   -101.29     51.43         30.3           25.5        gray\n",
      "4      Farm 5   -103.49     50.29         24.8           22.4  dark brown\n",
      "5      Farm 6   -103.76     51.40         27.2           21.6       brown\n",
      "6      Farm 7   -100.02     51.41         24.3           37.4  dark brown\n",
      "7      Farm 8   -104.70     51.65         22.4           89.1       black\n",
      "8      Farm 9   -103.24     50.04         30.7           80.5        gray\n",
      "9     Farm 10   -101.84     51.23         29.7           34.5        None\n",
      "10    Farm 11   -100.51     50.95         32.5           49.0        None\n",
      "11    Farm 12   -103.80     50.21         30.4           67.0       black\n",
      "12    Farm 13   -101.46     50.20         25.0           89.8       black\n",
      "13    Farm 14   -104.90     50.03         28.3           76.2       black\n",
      "14    Farm 15   -104.59     51.14         23.0           52.8        gray\n",
      "15    Farm 16   -102.42     50.86         27.6           85.2       brown\n",
      "16    Farm 17   -101.40     50.81         19.1           74.1       black\n",
      "17    Farm 18   -101.69     51.01         25.8           33.7        None\n",
      "18    Farm 19   -102.45     51.32         20.7           66.6        None\n",
      "19    Farm 20   -100.48     50.15         32.3           39.3        gray\n",
      "20    Farm 21   -102.11     50.45         18.2           74.4        None\n",
      "21    Farm 22   -104.91     51.63         24.4           34.2        gray\n",
      "22    Farm 23   -102.59     50.73         27.1           78.5       brown\n",
      "23    Farm 24   -100.74     51.02         30.2           66.4       black\n",
      "24    Farm 25   -103.61     50.36         32.7           64.6        None\n",
      "25    Farm 26   -101.75     51.00         23.4           53.5       black\n",
      "26    Farm 27   -104.32     51.73         19.2           60.2  dark brown\n",
      "27    Farm 28   -104.80     51.65         32.5           28.6        None\n",
      "28    Farm 29   -102.22     51.78         23.7           85.2        gray\n",
      "29    Farm 30   -104.16     51.74         24.6           54.2       brown\n",
      "30    Farm 31   -100.24     51.83         29.7           50.8       brown\n",
      "31    Farm 32   -100.80     50.46         27.0           56.5        None\n",
      "32    Farm 33   -100.27     51.35         26.8           40.1       brown\n",
      "33    Farm 34   -104.04     50.23         24.6           83.1        gray\n",
      "34    Farm 35   -102.23     50.89         22.5           68.5       black\n",
      "35    Farm 36   -102.44     51.75         31.1           65.0        None\n",
      "36    Farm 37   -100.52     51.36         26.8           85.0        None\n",
      "37    Farm 38   -104.82     50.89         22.2           29.0       black\n",
      "38    Farm 39   -104.38     51.95         25.5           59.8       black\n",
      "39    Farm 40   -100.90     51.13         29.9           50.0        None\n",
      "40    Farm 41   -100.10     51.46         23.1           75.2       brown\n",
      "41    Farm 42   -104.70     50.11         19.5           63.5        gray\n",
      "42    Farm 43   -103.61     51.21         31.6           53.1       black\n",
      "43    Farm 44   -102.48     50.98         25.7           38.3        gray\n",
      "44    Farm 45   -100.22     50.32         18.0           32.4       black\n",
      "45    Farm 46   -103.95     51.17         20.8           80.7        gray\n",
      "46    Farm 47   -100.46     50.12         19.5           68.9        None\n",
      "47    Farm 48   -100.69     50.25         23.1           67.9  dark brown\n",
      "48    Farm 49   -100.99     51.00         21.8           65.5        gray\n",
      "49    Farm 50   -101.52     51.50         25.0           35.7  dark brown\n",
      "50    Farm 51   -101.26     51.19         23.9           55.3        None\n",
      "51    Farm 52   -104.99     51.95         23.0           89.2  dark brown\n",
      "52    Farm 53   -101.12     50.86         24.4           24.8       black\n",
      "53    Farm 54   -103.68     50.27         32.2           88.6       black\n",
      "54    Farm 55   -104.76     51.86         23.4           44.1       black\n",
      "55    Farm 56   -100.91     51.76         24.5           44.7        gray\n",
      "56    Farm 57   -100.29     50.90         27.3           53.2  dark brown\n",
      "57    Farm 58   -102.49     51.14         29.1           31.2       black\n",
      "58    Farm 59   -101.86     50.26         29.4           61.6       black\n",
      "59    Farm 60   -104.38     50.10         28.6           87.5       brown\n",
      "60    Farm 61   -100.90     50.26         26.3           23.0        None\n",
      "61    Farm 62   -100.84     50.25         31.8           67.9       brown\n",
      "62    Farm 63   -101.93     51.81         19.7           37.8       black\n",
      "63    Farm 64   -103.92     51.54         20.5           53.9       brown\n",
      "64    Farm 65   -104.90     51.69         26.7           38.3  dark brown\n",
      "65    Farm 66   -103.97     51.36         23.2           35.6        gray\n",
      "66    Farm 67   -104.25     50.54         22.0           30.9       brown\n",
      "67    Farm 68   -100.16     50.77         22.1           56.4       black\n",
      "68    Farm 69   -101.43     51.44         32.6           85.2       black\n",
      "69    Farm 70   -103.36     51.56         30.8           30.6  dark brown\n",
      "70    Farm 71   -102.16     50.09         21.2           38.6        None\n",
      "71    Farm 72   -102.99     50.26         27.9           73.4  dark brown\n",
      "72    Farm 73   -103.08     50.10         29.1           84.2        None\n",
      "73    Farm 74   -102.65     51.40         26.9           46.6  dark brown\n",
      "74    Farm 75   -100.14     50.53         29.4           31.6       black\n",
      "75    Farm 76   -102.22     51.84         27.1           38.3  dark brown\n",
      "76    Farm 77   -100.49     50.89         19.0           58.4        None\n",
      "77    Farm 78   -103.87     50.29         26.0           83.8        gray\n",
      "78    Farm 79   -104.16     50.02         31.5           36.4  dark brown\n",
      "79    Farm 80   -104.73     51.46         32.5           64.5  dark brown\n",
      "80    Farm 81   -101.89     50.65         22.6           23.6        gray\n",
      "81    Farm 82   -104.31     50.56         18.6           30.0       brown\n",
      "82    Farm 83   -103.81     51.51         28.7           51.5       black\n",
      "83    Farm 84   -102.90     51.25         30.1           66.6        None\n",
      "84    Farm 85   -102.61     50.71         33.0           75.3       brown\n",
      "85    Farm 86   -102.84     50.72         23.3           63.0        None\n",
      "86    Farm 87   -101.04     50.22         25.7           59.0        gray\n",
      "87    Farm 88   -101.10     51.07         21.7           76.1       black\n",
      "88    Farm 89   -102.54     50.32         27.9           30.8        gray\n",
      "89    Farm 90   -100.37     50.60         21.8           87.5        None\n",
      "90    Farm 91   -102.51     51.99         23.7           57.5        None\n",
      "91    Farm 92   -102.58     50.32         28.0           43.5        gray\n",
      "92    Farm 93   -100.51     50.63         19.6           38.0  dark brown\n",
      "93    Farm 94   -100.78     51.66         32.4           29.5       black\n",
      "94    Farm 95   -102.25     50.55         23.6           21.0       brown\n",
      "95    Farm 96   -103.31     51.08         29.7           34.6        gray\n",
      "96    Farm 97   -102.26     51.15         18.7           44.2  dark brown\n",
      "97    Farm 98   -104.73     50.82         27.1           28.5        gray\n",
      "98    Farm 99   -104.30     50.40         25.6           74.9        None\n",
      "99   Farm 100   -100.69     50.59         29.6           84.0       black\n",
      "100  Farm 101   -104.26     50.68         18.6           74.3  dark brown\n",
      "101  Farm 102   -100.23     51.43         30.9           59.2  dark brown\n",
      "102  Farm 103   -100.67     50.84         28.3           20.6  dark brown\n",
      "103  Farm 104   -103.74     50.63         22.9           62.5        gray\n",
      "104  Farm 105   -103.10     50.32         31.1           54.8       brown\n",
      "105  Farm 106   -102.55     50.82         26.3           34.4       brown\n",
      "106  Farm 107   -102.38     50.73         26.0           75.7        None\n",
      "107  Farm 108   -100.20     50.67         28.5           81.6       black\n",
      "108  Farm 109   -102.66     51.47         28.0           35.9  dark brown\n",
      "109  Farm 110   -104.55     51.36         24.8           54.1        None\n",
      "110  Farm 111   -101.64     50.57         18.5           45.6       black\n",
      "111  Farm 112   -103.58     50.70         31.0           67.9       brown\n",
      "112  Farm 113   -100.13     50.30         32.5           81.6       black\n",
      "113  Farm 114   -103.10     51.89         24.6           61.9       brown\n",
      "114  Farm 115   -100.28     50.22         29.7           88.9        None\n",
      "115  Farm 116   -103.80     51.34         21.9           74.7        None\n",
      "116  Farm 117   -101.93     51.68         24.0           59.9  dark brown\n",
      "117  Farm 118   -101.41     50.96         32.7           38.4        None\n",
      "118  Farm 119   -104.19     50.39         29.2           50.4        gray\n",
      "119  Farm 120   -103.81     50.85         26.0           50.1       brown\n",
      "120  Farm 121   -100.52     50.47         27.1           63.9       brown\n",
      "121  Farm 122   -102.76     51.92         27.0           71.8        None\n",
      "122  Farm 123   -101.11     50.17         25.0           72.0       brown\n",
      "123  Farm 124   -104.03     50.88         21.5           52.9        None\n",
      "124  Farm 125   -103.19     50.21         23.2           60.7  dark brown\n",
      "125  Farm 126   -103.41     51.51         28.4           32.6  dark brown\n",
      "126  Farm 127   -102.28     51.65         31.9           41.3       black\n",
      "127  Farm 128   -104.63     51.98         20.8           77.5  dark brown\n",
      "128  Farm 129   -102.72     50.43         30.0           28.5       black\n",
      "129  Farm 130   -100.02     50.49         31.8           56.2       black\n",
      "130  Farm 131   -103.21     51.28         28.2           46.4       black\n",
      "131  Farm 132   -102.83     51.01         27.5           65.0       black\n",
      "132  Farm 133   -104.90     51.25         32.1           25.9        None\n",
      "133  Farm 134   -104.41     50.26         32.0           71.1       brown\n",
      "134  Farm 135   -103.30     51.17         24.3           78.5        gray\n",
      "135  Farm 136   -103.20     51.24         18.8           87.8       black\n",
      "136  Farm 137   -102.31     50.54         22.6           40.2  dark brown\n",
      "137  Farm 138   -102.70     50.94         25.7           45.9       brown\n",
      "138  Farm 139   -103.48     51.87         23.0           39.6       brown\n",
      "139  Farm 140   -102.04     51.43         18.4           71.9        gray\n",
      "140  Farm 141   -100.53     51.22         23.7           76.0        None\n",
      "141  Farm 142   -103.67     50.60         25.7           81.2       black\n",
      "142  Farm 143   -100.93     51.64         21.5           64.3       black\n",
      "143  Farm 144   -103.07     50.42         22.3           54.0       black\n",
      "144  Farm 145   -103.36     51.16         32.3           78.0        gray\n",
      "145  Farm 146   -100.10     50.08         19.0           41.8       black\n",
      "146  Farm 147   -100.89     51.63         30.9           61.9  dark brown\n",
      "147  Farm 148   -104.04     50.24         32.9           51.7       brown\n",
      "148  Farm 149   -103.95     51.36         30.5           80.5       brown\n",
      "149  Farm 150   -102.83     51.76         18.8           36.0  dark brown\n",
      "150  Farm 151   -104.76     51.81         19.8           67.5  dark brown\n",
      "151  Farm 152   -100.59     51.93         32.8           80.4       black\n",
      "152  Farm 153   -101.35     51.47         24.7           35.2       black\n",
      "153  Farm 154   -104.51     50.55         21.6           29.8        None\n",
      "154  Farm 155   -102.42     50.91         31.8           46.3        None\n",
      "155  Farm 156   -100.44     51.86         19.2           62.5        gray\n",
      "156  Farm 157   -102.93     50.82         30.3           58.6       black\n",
      "157  Farm 158   -100.38     50.70         24.7           28.2       black\n",
      "158  Farm 159   -103.40     50.55         21.6           28.6        gray\n",
      "159  Farm 160   -104.31     50.86         22.4           52.4       black\n",
      "160  Farm 161   -102.39     50.37         23.9           80.6  dark brown\n",
      "161  Farm 162   -104.26     50.11         24.7           34.1  dark brown\n",
      "162  Farm 163   -101.51     50.34         30.8           30.6        None\n",
      "163  Farm 164   -101.87     51.87         28.0           89.5        None\n",
      "164  Farm 165   -102.66     50.98         23.2           61.3  dark brown\n",
      "165  Farm 166   -102.99     50.10         21.8           67.5       black\n",
      "166  Farm 167   -103.45     50.19         20.4           81.8  dark brown\n",
      "167  Farm 168   -101.13     50.92         24.2           30.1       black\n",
      "168  Farm 169   -101.02     51.97         18.9           34.0       black\n",
      "169  Farm 170   -102.94     51.92         27.8           87.2        gray\n",
      "170  Farm 171   -103.01     51.14         22.7           89.9        gray\n",
      "171  Farm 172   -103.73     50.57         30.5           20.1        None\n",
      "172  Farm 173   -100.27     51.59         31.5           23.2       brown\n",
      "173  Farm 174   -103.70     51.89         30.6           87.5       black\n",
      "174  Farm 175   -102.50     50.82         30.3           42.9       black\n",
      "175  Farm 176   -104.95     50.79         28.4           31.7       brown\n",
      "176  Farm 177   -103.83     50.88         30.9           38.7       brown\n",
      "177  Farm 178   -104.81     50.54         22.5           36.0       black\n",
      "178  Farm 179   -104.09     50.35         31.7           76.7  dark brown\n",
      "179  Farm 180   -104.21     51.92         24.6           41.8       black\n",
      "180  Farm 181   -101.05     51.47         24.2           29.7  dark brown\n",
      "181  Farm 182   -104.94     50.93         26.8           75.9       brown\n",
      "182  Farm 183   -103.07     50.29         23.1           61.7        gray\n",
      "183  Farm 184   -103.63     50.26         32.0           30.2       black\n",
      "184  Farm 185   -102.40     50.27         24.7           59.3       brown\n",
      "185  Farm 186   -103.47     51.72         28.2           45.2       brown\n",
      "186  Farm 187   -103.49     50.22         22.2           58.2  dark brown\n",
      "187  Farm 188   -101.19     51.92         32.7           44.7  dark brown\n",
      "188  Farm 189   -100.95     50.54         32.0           41.3        gray\n",
      "189  Farm 190   -103.80     51.49         25.3           56.6       black\n",
      "190  Farm 191   -100.30     51.55         26.0           42.3        gray\n",
      "191  Farm 192   -100.89     50.39         32.0           77.8       brown\n",
      "192  Farm 193   -101.91     51.37         31.2           29.2        None\n",
      "193  Farm 194   -103.09     50.38         18.7           27.6       black\n",
      "194  Farm 195   -100.38     51.35         31.2           34.6       black\n",
      "195  Farm 196   -101.83     50.11         31.0           80.2       black\n",
      "196  Farm 197   -101.51     51.59         23.8           69.6       black\n",
      "197  Farm 198   -101.64     51.59         28.2           59.9  dark brown\n",
      "198  Farm 199   -100.82     51.96         25.2           68.7        gray\n",
      "199  Farm 200   -103.75     50.14         31.8           49.6       brown\n"
     ]
    }
   ],
   "source": [
    "\n",
    "df = pd.DataFrame(farms)\n",
    "print(df.to_string())"
   ]
  },
  {
   "attachments": {},
   "cell_type": "markdown",
   "metadata": {},
   "source": [
    "1. Select the rows where the temperature is above 20 degrees Celsius."
   ]
  },
  {
   "cell_type": "code",
   "execution_count": 54,
   "metadata": {},
   "outputs": [
    {
     "name": "stdout",
     "output_type": "stream",
     "text": [
      "    farm_name  farm_lon  farm_lat  temperature  precipitation   soil_type\n",
      "0      Farm 1   -103.66     50.94         24.4           50.6        gray\n",
      "1      Farm 2   -101.63     50.89         20.2           32.6  dark brown\n",
      "3      Farm 4   -101.29     51.43         30.3           25.5        gray\n",
      "4      Farm 5   -103.49     50.29         24.8           22.4  dark brown\n",
      "5      Farm 6   -103.76     51.40         27.2           21.6       brown\n",
      "..        ...       ...       ...          ...            ...         ...\n",
      "195  Farm 196   -101.83     50.11         31.0           80.2       black\n",
      "196  Farm 197   -101.51     51.59         23.8           69.6       black\n",
      "197  Farm 198   -101.64     51.59         28.2           59.9  dark brown\n",
      "198  Farm 199   -100.82     51.96         25.2           68.7        gray\n",
      "199  Farm 200   -103.75     50.14         31.8           49.6       brown\n",
      "\n",
      "[178 rows x 6 columns]\n"
     ]
    }
   ],
   "source": [
    "\n",
    "print(df[df[\"temperature\"]>20])\n"
   ]
  },
  {
   "attachments": {},
   "cell_type": "markdown",
   "metadata": {},
   "source": [
    "2. Sort the DataFrame by precipitation in descending order."
   ]
  },
  {
   "cell_type": "code",
   "execution_count": 55,
   "metadata": {},
   "outputs": [
    {
     "name": "stdout",
     "output_type": "stream",
     "text": [
      "    farm_name  farm_lon  farm_lat  temperature  precipitation   soil_type\n",
      "170  Farm 171   -103.01     51.14         22.7           89.9        gray\n",
      "12    Farm 13   -101.46     50.20         25.0           89.8       black\n",
      "163  Farm 164   -101.87     51.87         28.0           89.5        None\n",
      "51    Farm 52   -104.99     51.95         23.0           89.2  dark brown\n",
      "7      Farm 8   -104.70     51.65         22.4           89.1       black\n",
      "..        ...       ...       ...          ...            ...         ...\n",
      "4      Farm 5   -103.49     50.29         24.8           22.4  dark brown\n",
      "5      Farm 6   -103.76     51.40         27.2           21.6       brown\n",
      "94    Farm 95   -102.25     50.55         23.6           21.0       brown\n",
      "102  Farm 103   -100.67     50.84         28.3           20.6  dark brown\n",
      "171  Farm 172   -103.73     50.57         30.5           20.1        None\n",
      "\n",
      "[200 rows x 6 columns]\n"
     ]
    }
   ],
   "source": [
    "\n",
    "print(df.sort_values(\"precipitation\", ascending=False))\n"
   ]
  },
  {
   "attachments": {},
   "cell_type": "markdown",
   "metadata": {},
   "source": [
    "3. Filter the DataFrame to include only the farms located within latitude (51.15 & 51.00) range."
   ]
  },
  {
   "cell_type": "code",
   "execution_count": 56,
   "metadata": {},
   "outputs": [
    {
     "name": "stdout",
     "output_type": "stream",
     "text": [
      "    farm_name  farm_lon  farm_lat  temperature  precipitation   soil_type\n",
      "14    Farm 15   -104.59     51.14         23.0           52.8        gray\n",
      "17    Farm 18   -101.69     51.01         25.8           33.7        None\n",
      "23    Farm 24   -100.74     51.02         30.2           66.4       black\n",
      "25    Farm 26   -101.75     51.00         23.4           53.5       black\n",
      "39    Farm 40   -100.90     51.13         29.9           50.0        None\n",
      "48    Farm 49   -100.99     51.00         21.8           65.5        gray\n",
      "57    Farm 58   -102.49     51.14         29.1           31.2       black\n",
      "87    Farm 88   -101.10     51.07         21.7           76.1       black\n",
      "95    Farm 96   -103.31     51.08         29.7           34.6        gray\n",
      "96    Farm 97   -102.26     51.15         18.7           44.2  dark brown\n",
      "131  Farm 132   -102.83     51.01         27.5           65.0       black\n",
      "170  Farm 171   -103.01     51.14         22.7           89.9        gray\n"
     ]
    }
   ],
   "source": [
    "## Your code here down\n",
    "\n",
    "print(df[(df[\"farm_lat\"] >= 51.00) & (df[\"farm_lat\"] <= 51.15)])\n",
    "## Your code here up"
   ]
  },
  {
   "attachments": {},
   "cell_type": "markdown",
   "metadata": {},
   "source": [
    " 4. Calculate the standard deviation of precipitation for each soil type."
   ]
  },
  {
   "cell_type": "code",
   "execution_count": 57,
   "metadata": {},
   "outputs": [
    {
     "name": "stdout",
     "output_type": "stream",
     "text": [
      "soil_type\n",
      "black         20.559058\n",
      "brown         19.805792\n",
      "dark brown    18.362365\n",
      "gray          20.737588\n",
      "Name: precipitation, dtype: float64\n"
     ]
    }
   ],
   "source": [
    "std = df.groupby(\"soil_type\")[\"precipitation\"].std()\n",
    "\n",
    "print(std)"
   ]
  },
  {
   "attachments": {},
   "cell_type": "markdown",
   "metadata": {},
   "source": [
    "5. Calculate the cumulative sum of precipitation for each soil type."
   ]
  },
  {
   "cell_type": "code",
   "execution_count": 58,
   "metadata": {},
   "outputs": [
    {
     "name": "stdout",
     "output_type": "stream",
     "text": [
      "soil_type\n",
      "black         3130.0\n",
      "brown         1953.0\n",
      "dark brown    1962.2\n",
      "gray          1906.8\n",
      "Name: precipitation, dtype: float64\n"
     ]
    }
   ],
   "source": [
    "cum_sum = df.groupby(\"soil_type\")[\"precipitation\"].sum()\n",
    "\n",
    "print(cum_sum)"
   ]
  },
  {
   "attachments": {},
   "cell_type": "markdown",
   "metadata": {},
   "source": [
    "6. Determine the top 3 farms with the highest average temperature."
   ]
  },
  {
   "cell_type": "code",
   "execution_count": 59,
   "metadata": {},
   "outputs": [
    {
     "name": "stdout",
     "output_type": "stream",
     "text": [
      "    farm_name  farm_lon  farm_lat  temperature  precipitation soil_type\n",
      "84    Farm 85   -102.61     50.71         33.0           75.3     brown\n",
      "147  Farm 148   -104.04     50.24         32.9           51.7     brown\n",
      "151  Farm 152   -100.59     51.93         32.8           80.4     black\n"
     ]
    }
   ],
   "source": [
    "\n",
    "high_temp = df.sort_values(\"temperature\", ascending=False).head(3)\n",
    "print(high_temp)\n"
   ]
  },
  {
   "attachments": {},
   "cell_type": "markdown",
   "metadata": {},
   "source": [
    "7. Find famers in each soil type that have the highest temperature."
   ]
  },
  {
   "cell_type": "code",
   "execution_count": 60,
   "metadata": {},
   "outputs": [
    {
     "name": "stdout",
     "output_type": "stream",
     "text": [
      "soil_type\n",
      "black         32.8\n",
      "brown         33.0\n",
      "dark brown    32.7\n",
      "gray          32.3\n",
      "Name: temperature, dtype: float64\n"
     ]
    }
   ],
   "source": [
    "soil_temp = df.groupby(\"soil_type\")[\"temperature\"].max()\n",
    "\n",
    "print(soil_temp)\n"
   ]
  },
  {
   "attachments": {},
   "cell_type": "markdown",
   "metadata": {},
   "source": [
    "8. Create new column 'percentage_tot_prec' and add the percentage contribution of each farm's precipitation (relative to total precipitation) to the column."
   ]
  },
  {
   "cell_type": "code",
   "execution_count": 61,
   "metadata": {},
   "outputs": [
    {
     "name": "stdout",
     "output_type": "stream",
     "text": [
      "    farm_name  farm_lon  farm_lat  temperature  precipitation   soil_type  \\\n",
      "0      Farm 1   -103.66     50.94         24.4           50.6        gray   \n",
      "1      Farm 2   -101.63     50.89         20.2           32.6  dark brown   \n",
      "2      Farm 3   -103.68     51.35         18.3           85.7       brown   \n",
      "3      Farm 4   -101.29     51.43         30.3           25.5        gray   \n",
      "4      Farm 5   -103.49     50.29         24.8           22.4  dark brown   \n",
      "..        ...       ...       ...          ...            ...         ...   \n",
      "195  Farm 196   -101.83     50.11         31.0           80.2       black   \n",
      "196  Farm 197   -101.51     51.59         23.8           69.6       black   \n",
      "197  Farm 198   -101.64     51.59         28.2           59.9  dark brown   \n",
      "198  Farm 199   -100.82     51.96         25.2           68.7        gray   \n",
      "199  Farm 200   -103.75     50.14         31.8           49.6       brown   \n",
      "\n",
      "     percentage_tot_prec  \n",
      "0               0.458263  \n",
      "1               0.295244  \n",
      "2               0.776149  \n",
      "3               0.230943  \n",
      "4               0.202867  \n",
      "..                   ...  \n",
      "195             0.726337  \n",
      "196             0.630338  \n",
      "197             0.542489  \n",
      "198             0.622187  \n",
      "199             0.449206  \n",
      "\n",
      "[200 rows x 7 columns]\n"
     ]
    }
   ],
   "source": [
    "total_precip = df[\"precipitation\"].sum()\n",
    "\n",
    "percent_precip = (df[\"precipitation\"] / total_precip) * 100\n",
    "\n",
    "df[\"percentage_tot_prec\"] = percent_precip\n",
    "\n",
    "print(df)"
   ]
  },
  {
   "attachments": {},
   "cell_type": "markdown",
   "metadata": {},
   "source": [
    "9. Create a new column called \"precipitation_rank\" that ranks the farms based on their precipitation in ascending order, with ties being assigned the same rank."
   ]
  },
  {
   "cell_type": "code",
   "execution_count": 62,
   "metadata": {},
   "outputs": [
    {
     "name": "stdout",
     "output_type": "stream",
     "text": [
      "    farm_name  farm_lon  farm_lat  temperature  precipitation   soil_type  \\\n",
      "0      Farm 1   -103.66     50.94         24.4           50.6        gray   \n",
      "1      Farm 2   -101.63     50.89         20.2           32.6  dark brown   \n",
      "2      Farm 3   -103.68     51.35         18.3           85.7       brown   \n",
      "3      Farm 4   -101.29     51.43         30.3           25.5        gray   \n",
      "4      Farm 5   -103.49     50.29         24.8           22.4  dark brown   \n",
      "..        ...       ...       ...          ...            ...         ...   \n",
      "195  Farm 196   -101.83     50.11         31.0           80.2       black   \n",
      "196  Farm 197   -101.51     51.59         23.8           69.6       black   \n",
      "197  Farm 198   -101.64     51.59         28.2           59.9  dark brown   \n",
      "198  Farm 199   -100.82     51.96         25.2           68.7        gray   \n",
      "199  Farm 200   -103.75     50.14         31.8           49.6       brown   \n",
      "\n",
      "     percentage_tot_prec  precipitation_rank  \n",
      "0               0.458263                86.0  \n",
      "1               0.295244                34.0  \n",
      "2               0.776149               188.0  \n",
      "3               0.230943                10.0  \n",
      "4               0.202867                 5.0  \n",
      "..                   ...                 ...  \n",
      "195             0.726337               170.0  \n",
      "196             0.630338               146.0  \n",
      "197             0.542489               114.0  \n",
      "198             0.622187               144.0  \n",
      "199             0.449206                82.0  \n",
      "\n",
      "[200 rows x 8 columns]\n"
     ]
    }
   ],
   "source": [
    "## Your code here down\n",
    "\n",
    "precip_rank = df[\"precipitation\"].rank(method='min')\n",
    "\n",
    "df[\"precipitation_rank\"] = precip_rank\n",
    "print(df)"
   ]
  },
  {
   "attachments": {},
   "cell_type": "markdown",
   "metadata": {},
   "source": [
    "10. Normalize the temperature column to a range between 0 and 1 for each farm."
   ]
  },
  {
   "cell_type": "code",
   "execution_count": 63,
   "metadata": {},
   "outputs": [
    {
     "name": "stdout",
     "output_type": "stream",
     "text": [
      "    farm_name  farm_lon  farm_lat  temperature  precipitation   soil_type  \\\n",
      "0      Farm 1   -103.66     50.94         24.4           50.6        gray   \n",
      "1      Farm 2   -101.63     50.89         20.2           32.6  dark brown   \n",
      "2      Farm 3   -103.68     51.35         18.3           85.7       brown   \n",
      "3      Farm 4   -101.29     51.43         30.3           25.5        gray   \n",
      "4      Farm 5   -103.49     50.29         24.8           22.4  dark brown   \n",
      "..        ...       ...       ...          ...            ...         ...   \n",
      "195  Farm 196   -101.83     50.11         31.0           80.2       black   \n",
      "196  Farm 197   -101.51     51.59         23.8           69.6       black   \n",
      "197  Farm 198   -101.64     51.59         28.2           59.9  dark brown   \n",
      "198  Farm 199   -100.82     51.96         25.2           68.7        gray   \n",
      "199  Farm 200   -103.75     50.14         31.8           49.6       brown   \n",
      "\n",
      "     percentage_tot_prec  precipitation_rank  normalized temp  \n",
      "0               0.458263                86.0         0.426667  \n",
      "1               0.295244                34.0         0.146667  \n",
      "2               0.776149               188.0         0.020000  \n",
      "3               0.230943                10.0         0.820000  \n",
      "4               0.202867                 5.0         0.453333  \n",
      "..                   ...                 ...              ...  \n",
      "195             0.726337               170.0         0.866667  \n",
      "196             0.630338               146.0         0.386667  \n",
      "197             0.542489               114.0         0.680000  \n",
      "198             0.622187               144.0         0.480000  \n",
      "199             0.449206                82.0         0.920000  \n",
      "\n",
      "[200 rows x 9 columns]\n"
     ]
    }
   ],
   "source": [
    "## Your code here down\n",
    "max_temp = df[\"temperature\"].max()\n",
    "min_temp = df[\"temperature\"].min()\n",
    "\n",
    "norm_temp = (df[\"temperature\"] - min_temp) / (max_temp - min_temp)\n",
    "\n",
    "df[\"normalized temp\"] = norm_temp\n",
    "\n",
    "print(df)\n",
    "\n",
    "## Your code here up"
   ]
  },
  {
   "cell_type": "markdown",
   "metadata": {},
   "source": [
    "# Assignment 4"
   ]
  },
  {
   "cell_type": "markdown",
   "metadata": {},
   "source": [
    "## ETL"
   ]
  },
  {
   "cell_type": "markdown",
   "metadata": {},
   "source": [
    "11. Change column types accordingly."
   ]
  },
  {
   "cell_type": "code",
   "execution_count": 64,
   "metadata": {},
   "outputs": [
    {
     "name": "stdout",
     "output_type": "stream",
     "text": [
      "<class 'pandas.core.frame.DataFrame'>\n",
      "RangeIndex: 200 entries, 0 to 199\n",
      "Data columns (total 9 columns):\n",
      " #   Column               Non-Null Count  Dtype  \n",
      "---  ------               --------------  -----  \n",
      " 0   farm_name            200 non-null    object \n",
      " 1   farm_lon             200 non-null    float64\n",
      " 2   farm_lat             200 non-null    float64\n",
      " 3   temperature          200 non-null    float64\n",
      " 4   precipitation        200 non-null    float64\n",
      " 5   soil_type            163 non-null    object \n",
      " 6   percentage_tot_prec  200 non-null    float64\n",
      " 7   precipitation_rank   200 non-null    float64\n",
      " 8   normalized temp      200 non-null    float64\n",
      "dtypes: float64(7), object(2)\n",
      "memory usage: 14.2+ KB\n",
      "<class 'pandas.core.frame.DataFrame'>\n",
      "RangeIndex: 200 entries, 0 to 199\n",
      "Data columns (total 9 columns):\n",
      " #   Column               Non-Null Count  Dtype  \n",
      "---  ------               --------------  -----  \n",
      " 0   farm_name            200 non-null    string \n",
      " 1   farm_lon             200 non-null    float64\n",
      " 2   farm_lat             200 non-null    float64\n",
      " 3   temperature          200 non-null    float64\n",
      " 4   precipitation        200 non-null    float64\n",
      " 5   soil_type            163 non-null    string \n",
      " 6   percentage_tot_prec  200 non-null    float64\n",
      " 7   precipitation_rank   200 non-null    float64\n",
      " 8   normalized temp      200 non-null    float64\n",
      "dtypes: float64(7), string(2)\n",
      "memory usage: 14.2 KB\n"
     ]
    }
   ],
   "source": [
    "## Your code here down\n",
    "df.info()\n",
    "\n",
    "df[\"farm_name\"] = df[\"farm_name\"].astype('string')\n",
    "df[\"soil_type\"] = df[\"soil_type\"].astype('string')\n",
    "\n",
    "df.info()\n",
    "## Your code here up"
   ]
  },
  {
   "cell_type": "markdown",
   "metadata": {},
   "source": [
    "## EDA"
   ]
  },
  {
   "cell_type": "markdown",
   "metadata": {},
   "source": [
    "12. Find missing values and give information how would you handle them"
   ]
  },
  {
   "cell_type": "code",
   "execution_count": 65,
   "metadata": {},
   "outputs": [
    {
     "name": "stdout",
     "output_type": "stream",
     "text": [
      "    farm_name  farm_lon  farm_lat  temperature  precipitation soil_type  \\\n",
      "9     Farm 10   -101.84     51.23         29.7           34.5      <NA>   \n",
      "10    Farm 11   -100.51     50.95         32.5           49.0      <NA>   \n",
      "17    Farm 18   -101.69     51.01         25.8           33.7      <NA>   \n",
      "18    Farm 19   -102.45     51.32         20.7           66.6      <NA>   \n",
      "20    Farm 21   -102.11     50.45         18.2           74.4      <NA>   \n",
      "24    Farm 25   -103.61     50.36         32.7           64.6      <NA>   \n",
      "27    Farm 28   -104.80     51.65         32.5           28.6      <NA>   \n",
      "31    Farm 32   -100.80     50.46         27.0           56.5      <NA>   \n",
      "35    Farm 36   -102.44     51.75         31.1           65.0      <NA>   \n",
      "36    Farm 37   -100.52     51.36         26.8           85.0      <NA>   \n",
      "39    Farm 40   -100.90     51.13         29.9           50.0      <NA>   \n",
      "46    Farm 47   -100.46     50.12         19.5           68.9      <NA>   \n",
      "50    Farm 51   -101.26     51.19         23.9           55.3      <NA>   \n",
      "60    Farm 61   -100.90     50.26         26.3           23.0      <NA>   \n",
      "70    Farm 71   -102.16     50.09         21.2           38.6      <NA>   \n",
      "72    Farm 73   -103.08     50.10         29.1           84.2      <NA>   \n",
      "76    Farm 77   -100.49     50.89         19.0           58.4      <NA>   \n",
      "83    Farm 84   -102.90     51.25         30.1           66.6      <NA>   \n",
      "85    Farm 86   -102.84     50.72         23.3           63.0      <NA>   \n",
      "89    Farm 90   -100.37     50.60         21.8           87.5      <NA>   \n",
      "90    Farm 91   -102.51     51.99         23.7           57.5      <NA>   \n",
      "98    Farm 99   -104.30     50.40         25.6           74.9      <NA>   \n",
      "106  Farm 107   -102.38     50.73         26.0           75.7      <NA>   \n",
      "109  Farm 110   -104.55     51.36         24.8           54.1      <NA>   \n",
      "114  Farm 115   -100.28     50.22         29.7           88.9      <NA>   \n",
      "115  Farm 116   -103.80     51.34         21.9           74.7      <NA>   \n",
      "117  Farm 118   -101.41     50.96         32.7           38.4      <NA>   \n",
      "121  Farm 122   -102.76     51.92         27.0           71.8      <NA>   \n",
      "123  Farm 124   -104.03     50.88         21.5           52.9      <NA>   \n",
      "132  Farm 133   -104.90     51.25         32.1           25.9      <NA>   \n",
      "140  Farm 141   -100.53     51.22         23.7           76.0      <NA>   \n",
      "153  Farm 154   -104.51     50.55         21.6           29.8      <NA>   \n",
      "154  Farm 155   -102.42     50.91         31.8           46.3      <NA>   \n",
      "162  Farm 163   -101.51     50.34         30.8           30.6      <NA>   \n",
      "163  Farm 164   -101.87     51.87         28.0           89.5      <NA>   \n",
      "171  Farm 172   -103.73     50.57         30.5           20.1      <NA>   \n",
      "192  Farm 193   -101.91     51.37         31.2           29.2      <NA>   \n",
      "\n",
      "     percentage_tot_prec  precipitation_rank  normalized temp  \n",
      "9               0.312452                41.0         0.780000  \n",
      "10              0.443772                81.0         0.966667  \n",
      "17              0.305207                36.0         0.520000  \n",
      "18              0.603168               135.0         0.180000  \n",
      "20              0.673809               154.0         0.013333  \n",
      "24              0.585055               130.0         0.980000  \n",
      "27              0.259018                16.0         0.966667  \n",
      "31              0.511697               104.0         0.600000  \n",
      "35              0.588677               131.0         0.873333  \n",
      "36              0.769809               184.0         0.586667  \n",
      "39              0.452829                83.0         0.793333  \n",
      "46              0.623998               145.0         0.100000  \n",
      "50              0.500829               101.0         0.393333  \n",
      "60              0.208301                 6.0         0.553333  \n",
      "70              0.349584                58.0         0.213333  \n",
      "72              0.762564               183.0         0.740000  \n",
      "76              0.528904               108.0         0.066667  \n",
      "83              0.603168               135.0         0.806667  \n",
      "85              0.570564               125.0         0.353333  \n",
      "89              0.792450               190.0         0.253333  \n",
      "90              0.520753               106.0         0.380000  \n",
      "98              0.678338               156.0         0.506667  \n",
      "106             0.685583               159.0         0.533333  \n",
      "109             0.489961                98.0         0.453333  \n",
      "114             0.805130               195.0         0.780000  \n",
      "115             0.676526               155.0         0.260000  \n",
      "117             0.347773                57.0         0.980000  \n",
      "121             0.650262               148.0         0.600000  \n",
      "123             0.479093                92.0         0.233333  \n",
      "132             0.234565                11.0         0.940000  \n",
      "140             0.688300               161.0         0.380000  \n",
      "153             0.269886                22.0         0.240000  \n",
      "154             0.419319                78.0         0.920000  \n",
      "162             0.277131                26.0         0.853333  \n",
      "163             0.810564               198.0         0.666667  \n",
      "171             0.182037                 1.0         0.833333  \n",
      "192             0.264452                19.0         0.880000  \n",
      "\n",
      " Total rows with missing values: 37\n"
     ]
    }
   ],
   "source": [
    "## Depending on the nature of data and the type of analysis, missing values can be dropped or replaced\n",
    "\n",
    "missing_values = df[df.isnull().any(axis=1)]\n",
    "print(missing_values)\n",
    "\n",
    "print(f\"\\n Total rows with missing values: {len(missing_values)}\")\n"
   ]
  },
  {
   "cell_type": "markdown",
   "metadata": {},
   "source": [
    "13. Find outliers if there is any how would you handle them"
   ]
  },
  {
   "cell_type": "code",
   "execution_count": 66,
   "metadata": {},
   "outputs": [
    {
     "data": {
      "image/png": "[encoded data removed]",
      "text/plain": [
       "<Figure size 640x480 with 1 Axes>"
      ]
     },
     "metadata": {},
     "output_type": "display_data"
    }
   ],
   "source": [
    "import matplotlib.pyplot as plt\n",
    "\n",
    "df.drop(columns=['farm_lon', 'farm_lat', 'precipitation_rank', 'normalized temp', 'percentage_tot_prec']).boxplot()\n",
    "plt.title('Boxplot of Temp & Precip')\n",
    "plt.xlabel('Farms', color='blue')\n",
    "plt.show()\n",
    "\n",
    "## The 1st step is the identification and visualisation of outliers.\n",
    "## Depending on the nature of data and the type of analysis;\n",
    "# - Outlier can be dropped if it's an error or not representative\n",
    "# -an outlier can also be transformed or replaced. \n"
   ]
  },
  {
   "cell_type": "markdown",
   "metadata": {},
   "source": [
    "14. Find descriptive statistics for relavant columns and plot them by using bars."
   ]
  },
  {
   "cell_type": "code",
   "execution_count": 76,
   "metadata": {},
   "outputs": [
    {
     "name": "stdout",
     "output_type": "stream",
     "text": [
      "               count     mean        std   min    25%    50%     75%   max\n",
      "temperature    200.0  26.0485   4.291993  18.0  22.85  25.75  30.025  33.0\n",
      "precipitation  200.0  55.2085  19.952297  20.1  37.15  55.05  72.350  89.9\n"
     ]
    },
    {
     "data": {
      "image/png": "[encoded data removed]",
      "text/plain": [
       "<Figure size 640x480 with 1 Axes>"
      ]
     },
     "metadata": {},
     "output_type": "display_data"
    }
   ],
   "source": [
    "stat_table = df.drop(columns=['farm_lon', 'farm_lat', 'precipitation_rank', 'normalized temp', 'percentage_tot_prec']).describe().T\n",
    "print(stat_table)\n",
    "stat_table.drop(columns='count').plot(kind='bar')\n",
    "plt.title('Descriptive Statistics')\n",
    "plt.ylabel('Values')\n",
    "plt.show()\n",
    "\n",
    "\n",
    "## Your code here up"
   ]
  },
  {
   "cell_type": "markdown",
   "metadata": {},
   "source": [
    "15. Plot the distribution of relevant columns."
   ]
  },
  {
   "cell_type": "code",
   "execution_count": 97,
   "metadata": {},
   "outputs": [
    {
     "data": {
      "image/png": "[encoded data removed]",
      "text/plain": [
       "<Figure size 800x600 with 1 Axes>"
      ]
     },
     "metadata": {},
     "output_type": "display_data"
    },
    {
     "data": {
      "image/png": "[encoded data removed]",
      "text/plain": [
       "<Figure size 800x600 with 1 Axes>"
      ]
     },
     "metadata": {},
     "output_type": "display_data"
    }
   ],
   "source": [
    "import seaborn as sns\n",
    "\n",
    "plt.figure(figsize=(8, 6))\n",
    "sns.histplot(df['temperature'], bins=10, kde=True, color='purple')\n",
    "plt.title('Distribution of Temperature')\n",
    "plt.xlabel('Value')\n",
    "plt.ylabel('Frequency')\n",
    "plt.grid(axis='y', linestyle='--', alpha=0.7)\n",
    "\n",
    "\n",
    "plt.figure(figsize=(8, 6))\n",
    "sns.histplot(df['precipitation'], bins=10, kde=True, color='orange')\n",
    "plt.title('Distribution of Precipitation')\n",
    "plt.xlabel('Value')\n",
    "plt.ylabel('Frequency')\n",
    "plt.grid(axis='y', linestyle='--', alpha=0.7)\n",
    "plt.show()"
   ]
  }
 ],
 "metadata": {
  "kernelspec": {
   "display_name": "Python 3",
   "language": "python",
   "name": "python3"
  },
  "language_info": {
   "codemirror_mode": {
    "name": "ipython",
    "version": 3
   },
   "file_extension": ".py",
   "mimetype": "text/x-python",
   "name": "python",
   "nbconvert_exporter": "python",
   "pygments_lexer": "ipython3",
   "version": "3.11.4"
  },
  "orig_nbformat": 4
 },
 "nbformat": 4,
 "nbformat_minor": 2
}
