{
 "cells": [
  {
   "attachments": {},
   "cell_type": "markdown",
   "metadata": {},
   "source": [
    "**Please follow the instructions. Do not add new cell! Write your code in designated areas.**"
   ]
  },
  {
   "cell_type": "code",
   "execution_count": 1,
   "metadata": {},
   "outputs": [
    {
     "name": "stdout",
     "output_type": "stream",
     "text": [
      "Assignment 1 & 2: Solutions by Olakunle Oyeniyi\n",
      "Local Time: 2023-09-17 19:33:37\n",
      "Computer ID: WIN-VAK2ONJP2K2\n"
     ]
    }
   ],
   "source": [
    "import datetime\n",
    "import socket\n",
    "\n",
    "# Get local time\n",
    "local_time = datetime.datetime.now().strftime(\"%Y-%m-%d %H:%M:%S\")\n",
    "\n",
    "# Get computer ID or hostname\n",
    "computer_id = socket.gethostname()\n",
    "\n",
    "# Print output with local time and computer ID\n",
    "print('Assignment 1 & 2: Solutions by Olakunle Oyeniyi') # Please change your name here\n",
    "print('Local Time:', local_time)\n",
    "print('Computer ID:', computer_id)"
   ]
  },
  {
   "cell_type": "markdown",
   "metadata": {},
   "source": [
    "**Note that you have to run this code in your local engine to pass the assignments**"
   ]
  },
  {
   "attachments": {},
   "cell_type": "markdown",
   "metadata": {},
   "source": [
    "# Assignment 1"
   ]
  },
  {
   "attachments": {},
   "cell_type": "markdown",
   "metadata": {},
   "source": [
    "## Exercise 1: String Manipulation"
   ]
  },
  {
   "attachments": {},
   "cell_type": "markdown",
   "metadata": {},
   "source": [
    "Develop a function that accepts a string parameter indicating a crop name and gives back the crop name in capital letters. Hints: str, upper()"
   ]
  },
  {
   "cell_type": "code",
   "execution_count": 14,
   "metadata": {},
   "outputs": [
    {
     "name": "stdout",
     "output_type": "stream",
     "text": [
      "CANOLA\n",
      "WHEAT\n"
     ]
    }
   ],
   "source": [
    "#first approach using print function\n",
    "def capitalize_crop_name(crop_name):\n",
    "    capitalize = crop_name.upper()\n",
    "    print(capitalize)\n",
    "\n",
    "capitalize_crop_name(\"canola\")\n",
    "\n",
    "\n",
    "#2nd approach using return key word\n",
    "def capitalize_crop_name_2(crop_name):\n",
    "    capitalize = crop_name.upper()\n",
    "    return capitalize\n",
    "\n",
    "#crop_name = \"wheat\"\n",
    "capitalize = capitalize_crop_name_2(\"wheat\")\n",
    "print(capitalize)\n",
    "\n",
    "\n"
   ]
  },
  {
   "attachments": {},
   "cell_type": "markdown",
   "metadata": {},
   "source": [
    "## Exercise 2: Crop Count"
   ]
  },
  {
   "attachments": {},
   "cell_type": "markdown",
   "metadata": {},
   "source": [
    "Create a function that receives a list of crop names (lentil, barley, canola, spring wheat, durum wheat, oats, alfalfa) and outputs the total number of crops. Hints: list, length."
   ]
  },
  {
   "cell_type": "code",
   "execution_count": 1,
   "metadata": {},
   "outputs": [
    {
     "name": "stdout",
     "output_type": "stream",
     "text": [
      "7\n"
     ]
    }
   ],
   "source": [
    "def total(crops):\n",
    "    number_of_crops = len(crops)\n",
    "    return number_of_crops\n",
    "\n",
    "crops = [\"lentil\", \"barley\", \"canola\", \"spring wheat\", \"durum wheat\", \"oats\", \"alfalfa\"] \n",
    "total_crops = total(crops)\n",
    "print(total_crops)\n",
    "\n",
    "\n"
   ]
  },
  {
   "attachments": {},
   "cell_type": "markdown",
   "metadata": {},
   "source": [
    "## Exercise 3: Temperature Conversion"
   ]
  },
  {
   "attachments": {},
   "cell_type": "markdown",
   "metadata": {},
   "source": [
    "Create a function that takes a temperature in Celsius and converts it to Fahrenheit. Return the converted temperature. Keys:def, find converter."
   ]
  },
  {
   "cell_type": "code",
   "execution_count": 14,
   "metadata": {},
   "outputs": [
    {
     "name": "stdout",
     "output_type": "stream",
     "text": [
      "78.8 °F\n"
     ]
    }
   ],
   "source": [
    "def temp_converter(temp_in_c):\n",
    "    temp_in_F = (temp_in_c * 9/5) + 32\n",
    "    return temp_in_F\n",
    "\n",
    "temp_in_c = 26\n",
    "converted_temp = temp_converter(temp_in_c)\n",
    "print(f'{converted_temp} °F')"
   ]
  },
  {
   "attachments": {},
   "cell_type": "markdown",
   "metadata": {},
   "source": [
    "## Exercise 4: Crop Harvest"
   ]
  },
  {
   "attachments": {},
   "cell_type": "markdown",
   "metadata": {},
   "source": [
    "Create a function that takes the yield of canola crop (in bushels) and returns a string indicating whether it's a high, moderate, or low yield. Keys: strings, if-else, print()"
   ]
  },
  {
   "cell_type": "code",
   "execution_count": 33,
   "metadata": {},
   "outputs": [
    {
     "name": "stdout",
     "output_type": "stream",
     "text": [
      "Canola yield in bsh/acre is low\n"
     ]
    }
   ],
   "source": [
    "def canola_yield(amount):\n",
    "    if amount > 38.2:\n",
    "        return \"Canola yield in bsh/acre is high\"\n",
    "    elif amount == 38.2:\n",
    "        return \"Canola yield in bsh/acre is moderate\"\n",
    "    else:\n",
    "        return \"Canola yield in bsh/acre is low\"\n",
    "\n",
    "amount = float(input(\"Enter your yield: \"))\n",
    "print(canola_yield(amount))\n"
   ]
  },
  {
   "attachments": {},
   "cell_type": "markdown",
   "metadata": {},
   "source": [
    "## Exercise 5: Crop Average"
   ]
  },
  {
   "attachments": {},
   "cell_type": "markdown",
   "metadata": {},
   "source": [
    "Create a function that takes a list of crop yields (spring wheat) and returns the average yield. Keys: list, average() or arithmetic average."
   ]
  },
  {
   "cell_type": "code",
   "execution_count": 25,
   "metadata": {},
   "outputs": [
    {
     "name": "stdout",
     "output_type": "stream",
     "text": [
      "Average yield of spring wheat is 41.7 bsh/acre\n"
     ]
    }
   ],
   "source": [
    "#Option 1\n",
    "def average_crop_yield(spring_wheat):\n",
    "    average = sum(spring_wheat)/len(spring_wheat)\n",
    "    return average\n",
    "\n",
    "spring_wheat = (40.3, 43.5, 50.1, 32.9)\n",
    "ave_wheat_yield = average_crop_yield(spring_wheat)\n",
    "print(f'Average yield of spring wheat is {ave_wheat_yield} bsh/acre')\n",
    "\n",
    "\n",
    "# #Option 2 \n",
    "# def average_crop_yield(spring_wheat):\n",
    "#     from statistics import mean\n",
    "#     average = mean(spring_wheat)\n",
    "#     return average\n",
    "\n",
    "# spring_wheat = (40.3, 43.5, 50.1, 32.9)\n",
    "# ave_wheat_yield = average_crop_yield(spring_wheat)\n",
    "# print(f'Average yield of spring wheat is {ave_wheat_yield} bsh/acre')\n",
    "\n"
   ]
  },
  {
   "cell_type": "markdown",
   "metadata": {},
   "source": [
    "# Assignment 2"
   ]
  },
  {
   "attachments": {},
   "cell_type": "markdown",
   "metadata": {},
   "source": [
    "## Exercise 6: Crop Recommendation"
   ]
  },
  {
   "attachments": {},
   "cell_type": "markdown",
   "metadata": {},
   "source": [
    "Create a function that takes the type of soil (brown, dark brown, black) as a parameter and returns a recommended crop (lentil, canola, oats) for that soil type. Keys: dict"
   ]
  },
  {
   "cell_type": "code",
   "execution_count": 38,
   "metadata": {},
   "outputs": [
    {
     "name": "stdout",
     "output_type": "stream",
     "text": [
      "canola\n"
     ]
    }
   ],
   "source": [
    "def crop_recommendation(soil_colour):\n",
    "    soil_match = {\"brown\":\"lentil\", \"dark brown\":\"canola\", \"black\":\"oats\"}\n",
    "    recommendation = soil_match.get(soil_colour)\n",
    "    return recommendation\n",
    "\n",
    "soil_colour = \"brown\"\n",
    "print(crop_recommendation(soil_colour))\n",
    "\n",
    "\n",
    "# #Another approach using **kwargs, but complicated\n",
    "# def crop_recommendation(**kwargs):\n",
    "#     soil_colour = kwargs.get(\"soil_colour\")\n",
    "#     soil_match = {\"brown\":\"lentil\", \"dark brown\":\"canola\", \"black\":\"oats\"}\n",
    "#     recommendation = soil_match.get(soil_colour)\n",
    "\n",
    "#     return recommendation\n",
    "\n",
    "\n",
    "print(crop_recommendation(soil_colour = \"dark brown\"))\n",
    "\n"
   ]
  },
  {
   "attachments": {},
   "cell_type": "markdown",
   "metadata": {},
   "source": [
    "## Exercise 7: Crop Rotation"
   ]
  },
  {
   "attachments": {},
   "cell_type": "markdown",
   "metadata": {},
   "source": [
    "Create a function that takes a list of crop names (lentil, barly, canola, spring wheat, durum wheat, oats) and rotates the crops by moving the last crop to the beginning of the list. Keys: list and list index"
   ]
  },
  {
   "cell_type": "code",
   "execution_count": 42,
   "metadata": {},
   "outputs": [
    {
     "name": "stdout",
     "output_type": "stream",
     "text": [
      "['oats', 'lentil', 'barly', 'canola', 'spring wheat', 'durum wheat']\n"
     ]
    }
   ],
   "source": [
    "def crop_rotation(crops):\n",
    "    last_crop = crops.pop()\n",
    "    crops.insert(0, last_crop)\n",
    "    return crops\n",
    "\n",
    "my_crops = [\"lentil\", \"barly\", \"canola\", \"spring wheat\", \"durum wheat\", \"oats\"]\n",
    "print(crop_rotation(my_crops))\n",
    "\n",
    "\n",
    "## Another approach    \n",
    "# def crop_rotation(crops):\n",
    "#     last_crop = crops.pop()\n",
    "#     crops[0] = last_crop\n",
    "#     return crops\n",
    "\n",
    "# my_crops = [\"lentil\", \"barly\", \"canola\", \"spring wheat\", \"durum wheat\", \"oats\"]\n",
    "# print(crop_rotation(my_crops))\n",
    "    "
   ]
  },
  {
   "attachments": {},
   "cell_type": "markdown",
   "metadata": {},
   "source": [
    "# Exercise 8: Rainfall Analysis"
   ]
  },
  {
   "attachments": {},
   "cell_type": "markdown",
   "metadata": {},
   "source": [
    "Create a function that takes a list of rainfall measurements (daily mm in a week) and returns the maximum and minimum rainfall values. Keys: min(), max(), lists"
   ]
  },
  {
   "cell_type": "code",
   "execution_count": 44,
   "metadata": {},
   "outputs": [
    {
     "name": "stdout",
     "output_type": "stream",
     "text": [
      "The maximum rainfall is 70 mm and the minimum rainfall is 20\n"
     ]
    }
   ],
   "source": [
    "def rainfall_record(measurements):\n",
    "    return max(measurements), min(measurements)\n",
    "\n",
    "daily_rainfall = [40, 39, 70, 62, 53, 20]\n",
    "max_measurement, min_measurement = rainfall_record(daily_rainfall)\n",
    "print(f\"The maximum rainfall is {max_measurement} mm and the minimum rainfall is {min_measurement} in a week\")"
   ]
  },
  {
   "attachments": {},
   "cell_type": "markdown",
   "metadata": {},
   "source": [
    "## Exercise 9: Pest Control"
   ]
  },
  {
   "attachments": {},
   "cell_type": "markdown",
   "metadata": {},
   "source": [
    "Create a function that takes the count of pests detected in a field and returns a recommendation for pest control based on the count. Please search for pests and pest control measures. Keys: if-else statement"
   ]
  },
  {
   "cell_type": "code",
   "execution_count": 51,
   "metadata": {},
   "outputs": [
    {
     "name": "stdout",
     "output_type": "stream",
     "text": [
      "Pest population has not reached economic treshold, no control recommended at this moment\n"
     ]
    }
   ],
   "source": [
    "def pest_control(pest):\n",
    "    for item in pest:\n",
    "        population = pest.count(item)\n",
    "        if population >= 10:\n",
    "            return \"Use pesticides immediately!\"\n",
    "        elif 8 <= population < 10:\n",
    "            return \"Stay vigilant and follow best practices\"\n",
    "        \n",
    "    return \"Pest population has not reached economic treshold, no control recommended at this moment\"\n",
    "    \n",
    "    \n",
    "pest = [\"wheat midge\", \"grain beetles\", \"grasshoppers\", \"army worms\", \"lygus bugs\"]\n",
    "recommendation = pest_control(pest)\n",
    "print(recommendation)\n"
   ]
  },
  {
   "attachments": {},
   "cell_type": "markdown",
   "metadata": {},
   "source": [
    "## Exercise 10: Weed Control"
   ]
  },
  {
   "attachments": {},
   "cell_type": "markdown",
   "metadata": {},
   "source": [
    "Create a function that takes a list of weed names and suggests appropriate herbicides for weed control. Keys: For Loops and dictionary."
   ]
  },
  {
   "cell_type": "code",
   "execution_count": 61,
   "metadata": {},
   "outputs": [
    {
     "name": "stdout",
     "output_type": "stream",
     "text": [
      "For Canada thistle, consider applying herbicides containing Metsulfuron-methyl, 2,4-D or Glyphosate.\n",
      "For Wild oats, consider  applying Arylex active herbicides (e.g., Paradigm™, Pixxaro).\n",
      "For kochia, consider applying ALS inhibitors herbicides like dicamba, fluroxypyr, and pyrasulfotole.\n",
      "For Lamb's quarters, consider applying Atrazine or ALS inhibitors.\n"
     ]
    }
   ],
   "source": [
    "def suggest_herbicides(weed):\n",
    "    suggestion = {}\n",
    "    for name in weed:\n",
    "        if name == \"Canada thistle\":\n",
    "            suggestion[name] = \"apply herbicides containing Metsulfuron-methyl, 2,4-D or Glyphosate.\"\n",
    "        elif name == \"Wild oats\":\n",
    "            suggestion[name] = \" apply Arylex active herbicides (e.g., Paradigm™, Pixxaro).\"\n",
    "        elif name == \"kochia\":\n",
    "            suggestion[name] = \"apply ALS inhibitors herbicides like dicamba, fluroxypyr, and pyrasulfotole.\"\n",
    "        elif name == \"Lamb's quarters\":\n",
    "            suggestion[name] = \"apply Atrazine or ALS inhibitors.\"\n",
    "        else:\n",
    "            suggestion[name] = \"pray to God!.\"\n",
    "    return suggestion\n",
    "\n",
    "weed = [\"Canada thistle\", \"Wild oats\", \"kochia\", \"Lamb's quarters\"]\n",
    "recommendation = suggest_herbicides(weed)\n",
    "\n",
    "for name, herbicide_suggestion in recommendation.items():\n",
    "     print(f\"For {name} infestation, {herbicide_suggestion}\")\n",
    "\n",
    "\n",
    "\n",
    "\n"
   ]
  }
 ],
 "metadata": {
  "kernelspec": {
   "display_name": "Python 3",
   "language": "python",
   "name": "python3"
  },
  "language_info": {
   "codemirror_mode": {
    "name": "ipython",
    "version": 3
   },
   "file_extension": ".py",
   "mimetype": "text/x-python",
   "name": "python",
   "nbconvert_exporter": "python",
   "pygments_lexer": "ipython3",
   "version": "3.9.13"
  },
  "orig_nbformat": 4
 },
 "nbformat": 4,
 "nbformat_minor": 2
}
